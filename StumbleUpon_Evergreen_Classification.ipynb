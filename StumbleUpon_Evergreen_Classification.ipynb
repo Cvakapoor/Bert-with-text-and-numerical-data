{
  "nbformat": 4,
  "nbformat_minor": 0,
  "metadata": {
    "colab": {
      "name": "StumbleUpon Classification.ipynb",
      "provenance": [],
      "collapsed_sections": []
    },
    "kernelspec": {
      "name": "python3",
      "display_name": "Python 3"
    },
    "accelerator": "GPU"
  },
  "cells": [
    {
      "cell_type": "markdown",
      "metadata": {
        "id": "NKMCWkL7U6Sp"
      },
      "source": [
        "Letting Torch to use the GPU"
      ]
    },
    {
      "cell_type": "code",
      "metadata": {
        "colab": {
          "base_uri": "https://localhost:8080/"
        },
        "id": "WQ7nCd1k3bOt",
        "outputId": "4ac83a33-2f03-4fe2-9cb9-35cfd10a1812"
      },
      "source": [
        "import torch\r\n",
        "# If there's a GPU available...\r\n",
        "if torch.cuda.is_available():    \r\n",
        "    # Tell PyTorch to use the GPU.    \r\n",
        "    device = torch.device(\"cuda\")\r\n",
        "    print('There are %d GPU(s) available.' % torch.cuda.device_count())\r\n",
        "    print('We will use the GPU:', torch.cuda.get_device_name(0))\r\n",
        "# If not...\r\n",
        "else:\r\n",
        "    print('No GPU available, using the CPU instead.')\r\n",
        "    device = torch.device(\"cpu\")"
      ],
      "execution_count": null,
      "outputs": [
        {
          "output_type": "stream",
          "text": [
            "There are 1 GPU(s) available.\n",
            "We will use the GPU: Tesla T4\n"
          ],
          "name": "stdout"
        }
      ]
    },
    {
      "cell_type": "markdown",
      "metadata": {
        "id": "APbIQk0ZVHFU"
      },
      "source": [
        "Installing the Transformers library"
      ]
    },
    {
      "cell_type": "code",
      "metadata": {
        "colab": {
          "base_uri": "https://localhost:8080/"
        },
        "id": "p8ab0JS-4FSq",
        "outputId": "e2415655-76dc-4f71-e458-a7cb4cf50ab1"
      },
      "source": [
        "!pip install transformers"
      ],
      "execution_count": null,
      "outputs": [
        {
          "output_type": "stream",
          "text": [
            "Requirement already satisfied: transformers in /usr/local/lib/python3.7/dist-packages (4.3.3)\n",
            "Requirement already satisfied: sacremoses in /usr/local/lib/python3.7/dist-packages (from transformers) (0.0.43)\n",
            "Requirement already satisfied: regex!=2019.12.17 in /usr/local/lib/python3.7/dist-packages (from transformers) (2019.12.20)\n",
            "Requirement already satisfied: numpy>=1.17 in /usr/local/lib/python3.7/dist-packages (from transformers) (1.19.5)\n",
            "Requirement already satisfied: tqdm>=4.27 in /usr/local/lib/python3.7/dist-packages (from transformers) (4.41.1)\n",
            "Requirement already satisfied: requests in /usr/local/lib/python3.7/dist-packages (from transformers) (2.23.0)\n",
            "Requirement already satisfied: packaging in /usr/local/lib/python3.7/dist-packages (from transformers) (20.9)\n",
            "Requirement already satisfied: filelock in /usr/local/lib/python3.7/dist-packages (from transformers) (3.0.12)\n",
            "Requirement already satisfied: tokenizers<0.11,>=0.10.1 in /usr/local/lib/python3.7/dist-packages (from transformers) (0.10.1)\n",
            "Requirement already satisfied: importlib-metadata; python_version < \"3.8\" in /usr/local/lib/python3.7/dist-packages (from transformers) (3.7.0)\n",
            "Requirement already satisfied: click in /usr/local/lib/python3.7/dist-packages (from sacremoses->transformers) (7.1.2)\n",
            "Requirement already satisfied: six in /usr/local/lib/python3.7/dist-packages (from sacremoses->transformers) (1.15.0)\n",
            "Requirement already satisfied: joblib in /usr/local/lib/python3.7/dist-packages (from sacremoses->transformers) (1.0.1)\n",
            "Requirement already satisfied: urllib3!=1.25.0,!=1.25.1,<1.26,>=1.21.1 in /usr/local/lib/python3.7/dist-packages (from requests->transformers) (1.24.3)\n",
            "Requirement already satisfied: certifi>=2017.4.17 in /usr/local/lib/python3.7/dist-packages (from requests->transformers) (2020.12.5)\n",
            "Requirement already satisfied: chardet<4,>=3.0.2 in /usr/local/lib/python3.7/dist-packages (from requests->transformers) (3.0.4)\n",
            "Requirement already satisfied: idna<3,>=2.5 in /usr/local/lib/python3.7/dist-packages (from requests->transformers) (2.10)\n",
            "Requirement already satisfied: pyparsing>=2.0.2 in /usr/local/lib/python3.7/dist-packages (from packaging->transformers) (2.4.7)\n",
            "Requirement already satisfied: zipp>=0.5 in /usr/local/lib/python3.7/dist-packages (from importlib-metadata; python_version < \"3.8\"->transformers) (3.4.0)\n",
            "Requirement already satisfied: typing-extensions>=3.6.4; python_version < \"3.8\" in /usr/local/lib/python3.7/dist-packages (from importlib-metadata; python_version < \"3.8\"->transformers) (3.7.4.3)\n"
          ],
          "name": "stdout"
        }
      ]
    },
    {
      "cell_type": "markdown",
      "metadata": {
        "id": "lBJwaocVVnOZ"
      },
      "source": [
        "Importing necessary modules"
      ]
    },
    {
      "cell_type": "code",
      "metadata": {
        "id": "565QaHln4vJ5"
      },
      "source": [
        "import pandas as pd \r\n",
        "import numpy as np \r\n",
        "\r\n",
        "import matplotlib.pyplot as plt \r\n",
        "import seaborn as sns \r\n",
        "%matplotlib inline \r\n",
        "import torch\r\n",
        "import torch.nn as nn\r\n",
        "from sklearn.model_selection import train_test_split\r\n",
        "from sklearn.metrics import classification_report, confusion_matrix\r\n",
        "import transformers"
      ],
      "execution_count": null,
      "outputs": []
    },
    {
      "cell_type": "markdown",
      "metadata": {
        "id": "AfmoUBu6Vi9T"
      },
      "source": [
        "Loading both the train and test datasets"
      ]
    },
    {
      "cell_type": "code",
      "metadata": {
        "id": "SOjH3-VW5l-w"
      },
      "source": [
        "# Load the dataset into a pandas dataframe\r\n",
        "df=pd.read_csv('/content/drive/MyDrive/Stumble Upon/train.tsv',sep='\\t')\r\n",
        "\r\n",
        "df_test=pd.read_csv('/content/drive/MyDrive/Stumble Upon/test.tsv',sep='\\t')"
      ],
      "execution_count": null,
      "outputs": []
    },
    {
      "cell_type": "code",
      "metadata": {
        "colab": {
          "base_uri": "https://localhost:8080/",
          "height": 479
        },
        "id": "WKb9HSZI5rT2",
        "outputId": "1089760c-d32d-4528-e01e-18046c1d328f"
      },
      "source": [
        "print(df.shape)\r\n",
        "# Display 5 random rows from the data.\r\n",
        "df.sample(5)"
      ],
      "execution_count": null,
      "outputs": [
        {
          "output_type": "stream",
          "text": [
            "(7395, 27)\n"
          ],
          "name": "stdout"
        },
        {
          "output_type": "execute_result",
          "data": {
            "text/html": [
              "<div>\n",
              "<style scoped>\n",
              "    .dataframe tbody tr th:only-of-type {\n",
              "        vertical-align: middle;\n",
              "    }\n",
              "\n",
              "    .dataframe tbody tr th {\n",
              "        vertical-align: top;\n",
              "    }\n",
              "\n",
              "    .dataframe thead th {\n",
              "        text-align: right;\n",
              "    }\n",
              "</style>\n",
              "<table border=\"1\" class=\"dataframe\">\n",
              "  <thead>\n",
              "    <tr style=\"text-align: right;\">\n",
              "      <th></th>\n",
              "      <th>url</th>\n",
              "      <th>urlid</th>\n",
              "      <th>boilerplate</th>\n",
              "      <th>alchemy_category</th>\n",
              "      <th>alchemy_category_score</th>\n",
              "      <th>avglinksize</th>\n",
              "      <th>commonlinkratio_1</th>\n",
              "      <th>commonlinkratio_2</th>\n",
              "      <th>commonlinkratio_3</th>\n",
              "      <th>commonlinkratio_4</th>\n",
              "      <th>compression_ratio</th>\n",
              "      <th>embed_ratio</th>\n",
              "      <th>framebased</th>\n",
              "      <th>frameTagRatio</th>\n",
              "      <th>hasDomainLink</th>\n",
              "      <th>html_ratio</th>\n",
              "      <th>image_ratio</th>\n",
              "      <th>is_news</th>\n",
              "      <th>lengthyLinkDomain</th>\n",
              "      <th>linkwordscore</th>\n",
              "      <th>news_front_page</th>\n",
              "      <th>non_markup_alphanum_characters</th>\n",
              "      <th>numberOfLinks</th>\n",
              "      <th>numwords_in_url</th>\n",
              "      <th>parametrizedLinkRatio</th>\n",
              "      <th>spelling_errors_ratio</th>\n",
              "      <th>label</th>\n",
              "    </tr>\n",
              "  </thead>\n",
              "  <tbody>\n",
              "    <tr>\n",
              "      <th>144</th>\n",
              "      <td>http://obstacol.com/funny-drawings/you-may-onl...</td>\n",
              "      <td>8588</td>\n",
              "      <td>{\"title\":\"You may only choose two you may only...</td>\n",
              "      <td>recreation</td>\n",
              "      <td>0.446119</td>\n",
              "      <td>2.397436</td>\n",
              "      <td>0.650000</td>\n",
              "      <td>0.362500</td>\n",
              "      <td>0.037500</td>\n",
              "      <td>0.025000</td>\n",
              "      <td>0.230207</td>\n",
              "      <td>0.0</td>\n",
              "      <td>0</td>\n",
              "      <td>0.087948</td>\n",
              "      <td>0</td>\n",
              "      <td>0.227857</td>\n",
              "      <td>0.013889</td>\n",
              "      <td>1</td>\n",
              "      <td>1</td>\n",
              "      <td>45</td>\n",
              "      <td>0</td>\n",
              "      <td>1013</td>\n",
              "      <td>80</td>\n",
              "      <td>7</td>\n",
              "      <td>0.075000</td>\n",
              "      <td>0.061728</td>\n",
              "      <td>0</td>\n",
              "    </tr>\n",
              "    <tr>\n",
              "      <th>936</th>\n",
              "      <td>http://www.ohhellofriendblog.com/2011/11/inspi...</td>\n",
              "      <td>1251</td>\n",
              "      <td>{\"title\":\"you are loved inspire lovely pretty ...</td>\n",
              "      <td>arts_entertainment</td>\n",
              "      <td>0.647669</td>\n",
              "      <td>0.714286</td>\n",
              "      <td>0.177966</td>\n",
              "      <td>0.131356</td>\n",
              "      <td>0.097458</td>\n",
              "      <td>0.076271</td>\n",
              "      <td>0.447832</td>\n",
              "      <td>0.0</td>\n",
              "      <td>0</td>\n",
              "      <td>0.064516</td>\n",
              "      <td>0</td>\n",
              "      <td>0.202982</td>\n",
              "      <td>0.290076</td>\n",
              "      <td>1</td>\n",
              "      <td>0</td>\n",
              "      <td>19</td>\n",
              "      <td>0</td>\n",
              "      <td>2792</td>\n",
              "      <td>236</td>\n",
              "      <td>4</td>\n",
              "      <td>0.360169</td>\n",
              "      <td>0.085193</td>\n",
              "      <td>0</td>\n",
              "    </tr>\n",
              "    <tr>\n",
              "      <th>3381</th>\n",
              "      <td>http://bakedbree.com/flag-cake</td>\n",
              "      <td>7100</td>\n",
              "      <td>{\"title\":\"Flag Cake Recipe flag cake\",\"body\":\"...</td>\n",
              "      <td>culture_politics</td>\n",
              "      <td>0.309368</td>\n",
              "      <td>2.120370</td>\n",
              "      <td>0.528986</td>\n",
              "      <td>0.239130</td>\n",
              "      <td>0.217391</td>\n",
              "      <td>0.195652</td>\n",
              "      <td>0.453457</td>\n",
              "      <td>0.0</td>\n",
              "      <td>0</td>\n",
              "      <td>0.042980</td>\n",
              "      <td>0</td>\n",
              "      <td>0.224394</td>\n",
              "      <td>0.059284</td>\n",
              "      <td>?</td>\n",
              "      <td>0</td>\n",
              "      <td>15</td>\n",
              "      <td>?</td>\n",
              "      <td>5464</td>\n",
              "      <td>138</td>\n",
              "      <td>2</td>\n",
              "      <td>0.246377</td>\n",
              "      <td>0.075000</td>\n",
              "      <td>0</td>\n",
              "    </tr>\n",
              "    <tr>\n",
              "      <th>6255</th>\n",
              "      <td>http://www.gizmowatch.com/entry/top-20-wearabl...</td>\n",
              "      <td>7150</td>\n",
              "      <td>{\"title\":\"Top 20 Wearable Technologies To Make...</td>\n",
              "      <td>computer_internet</td>\n",
              "      <td>0.778941</td>\n",
              "      <td>2.255708</td>\n",
              "      <td>0.698198</td>\n",
              "      <td>0.472973</td>\n",
              "      <td>0.090090</td>\n",
              "      <td>0.045045</td>\n",
              "      <td>0.442288</td>\n",
              "      <td>0.0</td>\n",
              "      <td>0</td>\n",
              "      <td>0.067146</td>\n",
              "      <td>0</td>\n",
              "      <td>0.248593</td>\n",
              "      <td>0.035556</td>\n",
              "      <td>1</td>\n",
              "      <td>1</td>\n",
              "      <td>21</td>\n",
              "      <td>0</td>\n",
              "      <td>9057</td>\n",
              "      <td>222</td>\n",
              "      <td>7</td>\n",
              "      <td>0.049550</td>\n",
              "      <td>0.089431</td>\n",
              "      <td>0</td>\n",
              "    </tr>\n",
              "    <tr>\n",
              "      <th>4156</th>\n",
              "      <td>http://www.alternet.org/story/12002/white_pois...</td>\n",
              "      <td>4861</td>\n",
              "      <td>{\"url\":\"alternet story 12002 white poison the ...</td>\n",
              "      <td>health</td>\n",
              "      <td>0.75616</td>\n",
              "      <td>3.734375</td>\n",
              "      <td>0.773399</td>\n",
              "      <td>0.305419</td>\n",
              "      <td>0.098522</td>\n",
              "      <td>0.044335</td>\n",
              "      <td>0.444765</td>\n",
              "      <td>0.0</td>\n",
              "      <td>0</td>\n",
              "      <td>0.045699</td>\n",
              "      <td>0</td>\n",
              "      <td>0.217044</td>\n",
              "      <td>0.033108</td>\n",
              "      <td>1</td>\n",
              "      <td>1</td>\n",
              "      <td>28</td>\n",
              "      <td>0</td>\n",
              "      <td>9118</td>\n",
              "      <td>203</td>\n",
              "      <td>6</td>\n",
              "      <td>0.049261</td>\n",
              "      <td>0.059644</td>\n",
              "      <td>1</td>\n",
              "    </tr>\n",
              "  </tbody>\n",
              "</table>\n",
              "</div>"
            ],
            "text/plain": [
              "                                                    url  ...  label\n",
              "144   http://obstacol.com/funny-drawings/you-may-onl...  ...      0\n",
              "936   http://www.ohhellofriendblog.com/2011/11/inspi...  ...      0\n",
              "3381                     http://bakedbree.com/flag-cake  ...      0\n",
              "6255  http://www.gizmowatch.com/entry/top-20-wearabl...  ...      0\n",
              "4156  http://www.alternet.org/story/12002/white_pois...  ...      1\n",
              "\n",
              "[5 rows x 27 columns]"
            ]
          },
          "metadata": {
            "tags": []
          },
          "execution_count": 5
        }
      ]
    },
    {
      "cell_type": "code",
      "metadata": {
        "colab": {
          "base_uri": "https://localhost:8080/",
          "height": 445
        },
        "id": "vYIE0S9SiPc-",
        "outputId": "1b5c44f6-5a1c-41aa-9bdd-0693e577e2ae"
      },
      "source": [
        "print(df_test.shape)\r\n",
        "# Display 5 random rows from the data.\r\n",
        "df_test.sample(5)"
      ],
      "execution_count": null,
      "outputs": [
        {
          "output_type": "stream",
          "text": [
            "(3171, 26)\n"
          ],
          "name": "stdout"
        },
        {
          "output_type": "execute_result",
          "data": {
            "text/html": [
              "<div>\n",
              "<style scoped>\n",
              "    .dataframe tbody tr th:only-of-type {\n",
              "        vertical-align: middle;\n",
              "    }\n",
              "\n",
              "    .dataframe tbody tr th {\n",
              "        vertical-align: top;\n",
              "    }\n",
              "\n",
              "    .dataframe thead th {\n",
              "        text-align: right;\n",
              "    }\n",
              "</style>\n",
              "<table border=\"1\" class=\"dataframe\">\n",
              "  <thead>\n",
              "    <tr style=\"text-align: right;\">\n",
              "      <th></th>\n",
              "      <th>url</th>\n",
              "      <th>urlid</th>\n",
              "      <th>boilerplate</th>\n",
              "      <th>alchemy_category</th>\n",
              "      <th>alchemy_category_score</th>\n",
              "      <th>avglinksize</th>\n",
              "      <th>commonlinkratio_1</th>\n",
              "      <th>commonlinkratio_2</th>\n",
              "      <th>commonlinkratio_3</th>\n",
              "      <th>commonlinkratio_4</th>\n",
              "      <th>compression_ratio</th>\n",
              "      <th>embed_ratio</th>\n",
              "      <th>framebased</th>\n",
              "      <th>frameTagRatio</th>\n",
              "      <th>hasDomainLink</th>\n",
              "      <th>html_ratio</th>\n",
              "      <th>image_ratio</th>\n",
              "      <th>is_news</th>\n",
              "      <th>lengthyLinkDomain</th>\n",
              "      <th>linkwordscore</th>\n",
              "      <th>news_front_page</th>\n",
              "      <th>non_markup_alphanum_characters</th>\n",
              "      <th>numberOfLinks</th>\n",
              "      <th>numwords_in_url</th>\n",
              "      <th>parametrizedLinkRatio</th>\n",
              "      <th>spelling_errors_ratio</th>\n",
              "    </tr>\n",
              "  </thead>\n",
              "  <tbody>\n",
              "    <tr>\n",
              "      <th>2203</th>\n",
              "      <td>http://techworldtop.com/concept-artifact-led-w...</td>\n",
              "      <td>819</td>\n",
              "      <td>{\"title\":\"Concept Artifact LED watch The most ...</td>\n",
              "      <td>?</td>\n",
              "      <td>?</td>\n",
              "      <td>1.848276</td>\n",
              "      <td>0.858108</td>\n",
              "      <td>0.702703</td>\n",
              "      <td>0.087838</td>\n",
              "      <td>0.020270</td>\n",
              "      <td>0.498890</td>\n",
              "      <td>0.0</td>\n",
              "      <td>0</td>\n",
              "      <td>0.044706</td>\n",
              "      <td>0</td>\n",
              "      <td>0.201989</td>\n",
              "      <td>0.061033</td>\n",
              "      <td>1</td>\n",
              "      <td>1</td>\n",
              "      <td>60</td>\n",
              "      <td>0</td>\n",
              "      <td>921</td>\n",
              "      <td>148</td>\n",
              "      <td>4</td>\n",
              "      <td>0.000000</td>\n",
              "      <td>0.069869</td>\n",
              "    </tr>\n",
              "    <tr>\n",
              "      <th>2935</th>\n",
              "      <td>http://simplybeingmommy.com/2011/08/22/chicken...</td>\n",
              "      <td>3596</td>\n",
              "      <td>{\"title\":\"Chicken Pot Muffins Recipe Simply Be...</td>\n",
              "      <td>business</td>\n",
              "      <td>0.831748</td>\n",
              "      <td>2.033613</td>\n",
              "      <td>0.483871</td>\n",
              "      <td>0.177419</td>\n",
              "      <td>0.129032</td>\n",
              "      <td>0.104839</td>\n",
              "      <td>0.457843</td>\n",
              "      <td>0.0</td>\n",
              "      <td>0</td>\n",
              "      <td>0.064336</td>\n",
              "      <td>0</td>\n",
              "      <td>0.260093</td>\n",
              "      <td>0.086629</td>\n",
              "      <td>1</td>\n",
              "      <td>1</td>\n",
              "      <td>21</td>\n",
              "      <td>0</td>\n",
              "      <td>4243</td>\n",
              "      <td>124</td>\n",
              "      <td>3</td>\n",
              "      <td>0.137097</td>\n",
              "      <td>0.076459</td>\n",
              "    </tr>\n",
              "    <tr>\n",
              "      <th>2079</th>\n",
              "      <td>http://www.forbes.com/sites/anthonykosner/2012...</td>\n",
              "      <td>1168</td>\n",
              "      <td>{\"title\":\"Pebble Watch for iPhone and Android ...</td>\n",
              "      <td>computer_internet</td>\n",
              "      <td>0.933406</td>\n",
              "      <td>2.100402</td>\n",
              "      <td>0.534296</td>\n",
              "      <td>0.209386</td>\n",
              "      <td>0.115523</td>\n",
              "      <td>0.036101</td>\n",
              "      <td>0.440984</td>\n",
              "      <td>0.0</td>\n",
              "      <td>0</td>\n",
              "      <td>0.040137</td>\n",
              "      <td>1</td>\n",
              "      <td>0.196130</td>\n",
              "      <td>0.133072</td>\n",
              "      <td>1</td>\n",
              "      <td>1</td>\n",
              "      <td>35</td>\n",
              "      <td>0</td>\n",
              "      <td>4987</td>\n",
              "      <td>277</td>\n",
              "      <td>15</td>\n",
              "      <td>0.115523</td>\n",
              "      <td>0.077922</td>\n",
              "    </tr>\n",
              "    <tr>\n",
              "      <th>2383</th>\n",
              "      <td>http://www.mealsmatter.org/MealPlanning/MealPl...</td>\n",
              "      <td>7981</td>\n",
              "      <td>{\"title\":\"Daily Meal Planner For Creating Heal...</td>\n",
              "      <td>computer_internet</td>\n",
              "      <td>0.845102</td>\n",
              "      <td>1.975610</td>\n",
              "      <td>0.564706</td>\n",
              "      <td>0.352941</td>\n",
              "      <td>0.176471</td>\n",
              "      <td>0.011765</td>\n",
              "      <td>0.451333</td>\n",
              "      <td>0.0</td>\n",
              "      <td>0</td>\n",
              "      <td>0.022472</td>\n",
              "      <td>0</td>\n",
              "      <td>0.292857</td>\n",
              "      <td>0.057348</td>\n",
              "      <td>1</td>\n",
              "      <td>0</td>\n",
              "      <td>36</td>\n",
              "      <td>0</td>\n",
              "      <td>1262</td>\n",
              "      <td>85</td>\n",
              "      <td>5</td>\n",
              "      <td>0.035294</td>\n",
              "      <td>0.080139</td>\n",
              "    </tr>\n",
              "    <tr>\n",
              "      <th>2579</th>\n",
              "      <td>http://www.guardian.co.uk/lifeandstyle/2010/no...</td>\n",
              "      <td>7802</td>\n",
              "      <td>{\"title\":\"Experience I nearly died after eatin...</td>\n",
              "      <td>religion</td>\n",
              "      <td>0.354122</td>\n",
              "      <td>2.096591</td>\n",
              "      <td>0.682864</td>\n",
              "      <td>0.306905</td>\n",
              "      <td>0.089514</td>\n",
              "      <td>0.030691</td>\n",
              "      <td>0.433439</td>\n",
              "      <td>-1.0</td>\n",
              "      <td>0</td>\n",
              "      <td>0.020551</td>\n",
              "      <td>0</td>\n",
              "      <td>0.161436</td>\n",
              "      <td>0.100917</td>\n",
              "      <td>1</td>\n",
              "      <td>1</td>\n",
              "      <td>13</td>\n",
              "      <td>0</td>\n",
              "      <td>24096</td>\n",
              "      <td>391</td>\n",
              "      <td>8</td>\n",
              "      <td>0.184143</td>\n",
              "      <td>0.123698</td>\n",
              "    </tr>\n",
              "  </tbody>\n",
              "</table>\n",
              "</div>"
            ],
            "text/plain": [
              "                                                    url  ...  spelling_errors_ratio\n",
              "2203  http://techworldtop.com/concept-artifact-led-w...  ...               0.069869\n",
              "2935  http://simplybeingmommy.com/2011/08/22/chicken...  ...               0.076459\n",
              "2079  http://www.forbes.com/sites/anthonykosner/2012...  ...               0.077922\n",
              "2383  http://www.mealsmatter.org/MealPlanning/MealPl...  ...               0.080139\n",
              "2579  http://www.guardian.co.uk/lifeandstyle/2010/no...  ...               0.123698\n",
              "\n",
              "[5 rows x 26 columns]"
            ]
          },
          "metadata": {
            "tags": []
          },
          "execution_count": 6
        }
      ]
    },
    {
      "cell_type": "markdown",
      "metadata": {
        "id": "M9kar0DQVuDS"
      },
      "source": [
        "**Exploratory Data Analysis**"
      ]
    },
    {
      "cell_type": "code",
      "metadata": {
        "colab": {
          "base_uri": "https://localhost:8080/"
        },
        "id": "1Ycjs10j6F1d",
        "outputId": "762f689b-c3cf-4a0d-c7e0-ad6f7a9ec06c"
      },
      "source": [
        "#class distribution\r\n",
        "df['label'].value_counts(normalize=True)"
      ],
      "execution_count": null,
      "outputs": [
        {
          "output_type": "execute_result",
          "data": {
            "text/plain": [
              "1    0.51332\n",
              "0    0.48668\n",
              "Name: label, dtype: float64"
            ]
          },
          "metadata": {
            "tags": []
          },
          "execution_count": 7
        }
      ]
    },
    {
      "cell_type": "markdown",
      "metadata": {
        "id": "5WY_uII8V1A1"
      },
      "source": [
        "Given data is a balanced data"
      ]
    },
    {
      "cell_type": "code",
      "metadata": {
        "colab": {
          "base_uri": "https://localhost:8080/"
        },
        "id": "Oeo93DdE6vwb",
        "outputId": "ab9da00b-195f-44fb-fb10-dce875b93d0c"
      },
      "source": [
        "df['alchemy_category'].value_counts()"
      ],
      "execution_count": null,
      "outputs": [
        {
          "output_type": "execute_result",
          "data": {
            "text/plain": [
              "?                     2342\n",
              "recreation            1229\n",
              "arts_entertainment     941\n",
              "business               880\n",
              "health                 506\n",
              "sports                 380\n",
              "culture_politics       343\n",
              "computer_internet      296\n",
              "science_technology     289\n",
              "gaming                  76\n",
              "religion                72\n",
              "law_crime               31\n",
              "unknown                  6\n",
              "weather                  4\n",
              "Name: alchemy_category, dtype: int64"
            ]
          },
          "metadata": {
            "tags": []
          },
          "execution_count": 8
        }
      ]
    },
    {
      "cell_type": "code",
      "metadata": {
        "colab": {
          "base_uri": "https://localhost:8080/"
        },
        "id": "yN5fMNsSivgP",
        "outputId": "db627d76-a104-40ff-d6e8-a9c4d10e5182"
      },
      "source": [
        "df_test['alchemy_category'].value_counts()"
      ],
      "execution_count": null,
      "outputs": [
        {
          "output_type": "execute_result",
          "data": {
            "text/plain": [
              "?                     1046\n",
              "recreation             472\n",
              "arts_entertainment     422\n",
              "business               355\n",
              "health                 200\n",
              "sports                 186\n",
              "culture_politics       156\n",
              "computer_internet      134\n",
              "science_technology     120\n",
              "religion                35\n",
              "gaming                  34\n",
              "law_crime               11\n",
              "Name: alchemy_category, dtype: int64"
            ]
          },
          "metadata": {
            "tags": []
          },
          "execution_count": 9
        }
      ]
    },
    {
      "cell_type": "code",
      "metadata": {
        "colab": {
          "base_uri": "https://localhost:8080/",
          "height": 728
        },
        "id": "J8p3Ye3G9cXx",
        "outputId": "e489127a-9a52-424e-dfd4-5c606178c0f2"
      },
      "source": [
        "plt.figure(figsize=(15,10))\r\n",
        "sns.countplot(x=df['alchemy_category'],hue=df['label'])\r\n",
        "plt.xlabel('Category')\r\n",
        "plt.xticks(rotation=90)"
      ],
      "execution_count": null,
      "outputs": [
        {
          "output_type": "execute_result",
          "data": {
            "text/plain": [
              "(array([ 0,  1,  2,  3,  4,  5,  6,  7,  8,  9, 10, 11, 12, 13]),\n",
              " <a list of 14 Text major ticklabel objects>)"
            ]
          },
          "metadata": {
            "tags": []
          },
          "execution_count": 10
        },
        {
          "output_type": "display_data",
          "data": {
            "image/png": "[encoded data removed]",
            "text/plain": [
              "<Figure size 1080x720 with 1 Axes>"
            ]
          },
          "metadata": {
            "tags": [],
            "needs_background": "light"
          }
        }
      ]
    },
    {
      "cell_type": "markdown",
      "metadata": {
        "id": "8f3YQhqcWH3C"
      },
      "source": [
        "Alchemy catergory does have a role in determining the label.\r\n",
        "\r\n",
        "We see that business, recreation and health are more likley to be evergreen.\r\n",
        "\r\n",
        "Where as sports, computer_internet and arts_entertainment are more like to be non-evergreen."
      ]
    },
    {
      "cell_type": "code",
      "metadata": {
        "colab": {
          "base_uri": "https://localhost:8080/"
        },
        "id": "TVv3tsrC9UIA",
        "outputId": "2163cd0a-4c3e-433f-fb4c-efed96c481d6"
      },
      "source": [
        "df['is_news'].value_counts()"
      ],
      "execution_count": null,
      "outputs": [
        {
          "output_type": "execute_result",
          "data": {
            "text/plain": [
              "1    4552\n",
              "?    2843\n",
              "Name: is_news, dtype: int64"
            ]
          },
          "metadata": {
            "tags": []
          },
          "execution_count": 11
        }
      ]
    },
    {
      "cell_type": "code",
      "metadata": {
        "colab": {
          "base_uri": "https://localhost:8080/",
          "height": 619
        },
        "id": "uCf98Tk89q4n",
        "outputId": "3e180f7c-b2dd-42ab-cf09-46b9a71c1879"
      },
      "source": [
        "plt.figure(figsize=(15,10))\r\n",
        "sns.countplot(x=df['is_news'],hue=df['label'])\r\n",
        "plt.xlabel('Category')\r\n",
        "plt.xticks(rotation=90)"
      ],
      "execution_count": null,
      "outputs": [
        {
          "output_type": "execute_result",
          "data": {
            "text/plain": [
              "(array([0, 1]), <a list of 2 Text major ticklabel objects>)"
            ]
          },
          "metadata": {
            "tags": []
          },
          "execution_count": 12
        },
        {
          "output_type": "display_data",
          "data": {
            "image/png": "[encoded data removed]",
            "text/plain": [
              "<Figure size 1080x720 with 1 Axes>"
            ]
          },
          "metadata": {
            "tags": [],
            "needs_background": "light"
          }
        }
      ]
    },
    {
      "cell_type": "code",
      "metadata": {
        "colab": {
          "base_uri": "https://localhost:8080/"
        },
        "id": "aVa9wHv89AJ8",
        "outputId": "a8c906fe-1c1b-45fb-9731-b5c14ac4969b"
      },
      "source": [
        "df['news_front_page'].value_counts()"
      ],
      "execution_count": null,
      "outputs": [
        {
          "output_type": "execute_result",
          "data": {
            "text/plain": [
              "0    5853\n",
              "?    1248\n",
              "1     294\n",
              "Name: news_front_page, dtype: int64"
            ]
          },
          "metadata": {
            "tags": []
          },
          "execution_count": 13
        }
      ]
    },
    {
      "cell_type": "code",
      "metadata": {
        "colab": {
          "base_uri": "https://localhost:8080/",
          "height": 619
        },
        "id": "zkd8va2c9XP2",
        "outputId": "c30ded3f-92c9-4b95-be93-04806a2f5557"
      },
      "source": [
        "plt.figure(figsize=(15,10))\r\n",
        "sns.countplot(x=df['news_front_page'],hue=df['label'])\r\n",
        "plt.xlabel('Category')\r\n",
        "plt.xticks(rotation=90)"
      ],
      "execution_count": null,
      "outputs": [
        {
          "output_type": "execute_result",
          "data": {
            "text/plain": [
              "(array([0, 1, 2]), <a list of 3 Text major ticklabel objects>)"
            ]
          },
          "metadata": {
            "tags": []
          },
          "execution_count": 14
        },
        {
          "output_type": "display_data",
          "data": {
            "image/png": "[encoded data removed]",
            "text/plain": [
              "<Figure size 1080x720 with 1 Axes>"
            ]
          },
          "metadata": {
            "tags": [],
            "needs_background": "light"
          }
        }
      ]
    },
    {
      "cell_type": "markdown",
      "metadata": {
        "id": "X-ckN2yPWvxw"
      },
      "source": [
        "From the graphs, it is observed that both the 'is_news' and 'news_front_page' columns are redundant as they do not have any significant variance. So, these columns are dropped along with the 'alchemy_category_score' column. Further columns such as 'framebased', 'hasDomainLink', 'embed_ratio' are also dropped due the same reason mentioned above."
      ]
    },
    {
      "cell_type": "code",
      "metadata": {
        "colab": {
          "base_uri": "https://localhost:8080/"
        },
        "id": "zmbInQBr92_c",
        "outputId": "5634ced8-fbd6-4e88-b048-aa2af1c55ad3"
      },
      "source": [
        "df=df.drop(['alchemy_category_score','is_news','news_front_page','framebased','hasDomainLink','embed_ratio'], axis=1)\r\n",
        "df.shape"
      ],
      "execution_count": null,
      "outputs": [
        {
          "output_type": "execute_result",
          "data": {
            "text/plain": [
              "(7395, 21)"
            ]
          },
          "metadata": {
            "tags": []
          },
          "execution_count": 15
        }
      ]
    },
    {
      "cell_type": "code",
      "metadata": {
        "colab": {
          "base_uri": "https://localhost:8080/"
        },
        "id": "BR9YjSVLKX2_",
        "outputId": "a44370bf-fd42-409d-ebe3-2dafcd9d2c40"
      },
      "source": [
        "df_test=df_test.drop(['alchemy_category_score','is_news','news_front_page','framebased','hasDomainLink','embed_ratio'], axis=1)\r\n",
        "df_test.shape"
      ],
      "execution_count": null,
      "outputs": [
        {
          "output_type": "execute_result",
          "data": {
            "text/plain": [
              "(3171, 20)"
            ]
          },
          "metadata": {
            "tags": []
          },
          "execution_count": 16
        }
      ]
    },
    {
      "cell_type": "code",
      "metadata": {
        "id": "FYulkCj3JVmk"
      },
      "source": [
        "test_df = df_test"
      ],
      "execution_count": null,
      "outputs": []
    },
    {
      "cell_type": "markdown",
      "metadata": {
        "id": "okVncFP1X5js"
      },
      "source": [
        "Applying one_hot encoding to the 'alchemy_category' column"
      ]
    },
    {
      "cell_type": "code",
      "metadata": {
        "colab": {
          "base_uri": "https://localhost:8080/"
        },
        "id": "99jpwQ79EUwJ",
        "outputId": "179b8fdd-88e8-4329-b66b-7b417f8d7dfa"
      },
      "source": [
        "df_alc= pd.get_dummies(df['alchemy_category'], drop_first = True)\r\n",
        "df_alc.shape"
      ],
      "execution_count": null,
      "outputs": [
        {
          "output_type": "execute_result",
          "data": {
            "text/plain": [
              "(7395, 13)"
            ]
          },
          "metadata": {
            "tags": []
          },
          "execution_count": 17
        }
      ]
    },
    {
      "cell_type": "code",
      "metadata": {
        "colab": {
          "base_uri": "https://localhost:8080/"
        },
        "id": "lnFUem2RKg2i",
        "outputId": "5c586297-d00a-43fe-a96d-27037e6c302e"
      },
      "source": [
        "df_alc_test= pd.get_dummies(df_test['alchemy_category'], drop_first = True)\r\n",
        "df_alc_test.shape"
      ],
      "execution_count": null,
      "outputs": [
        {
          "output_type": "execute_result",
          "data": {
            "text/plain": [
              "(3171, 11)"
            ]
          },
          "metadata": {
            "tags": []
          },
          "execution_count": 18
        }
      ]
    },
    {
      "cell_type": "markdown",
      "metadata": {
        "id": "GyUOnKZfYFFk"
      },
      "source": [
        "Applying one_hot encoding to the 'lengthyLinkDomain' column"
      ]
    },
    {
      "cell_type": "code",
      "metadata": {
        "colab": {
          "base_uri": "https://localhost:8080/"
        },
        "id": "eYru-BgwG4I3",
        "outputId": "931c32e7-1f9d-4a87-c6d0-21d4348699dd"
      },
      "source": [
        "df_lengthy= pd.get_dummies(df['lengthyLinkDomain'], drop_first = True)\r\n",
        "df_lengthy.shape"
      ],
      "execution_count": null,
      "outputs": [
        {
          "output_type": "execute_result",
          "data": {
            "text/plain": [
              "(7395, 1)"
            ]
          },
          "metadata": {
            "tags": []
          },
          "execution_count": 19
        }
      ]
    },
    {
      "cell_type": "code",
      "metadata": {
        "colab": {
          "base_uri": "https://localhost:8080/"
        },
        "id": "CIbIImoTKsgX",
        "outputId": "d14a6133-c80a-41ec-ef0a-4f9a7e231070"
      },
      "source": [
        "df_lengthy_test= pd.get_dummies(df_test['lengthyLinkDomain'], drop_first = True)\r\n",
        "df_lengthy_test.shape"
      ],
      "execution_count": null,
      "outputs": [
        {
          "output_type": "execute_result",
          "data": {
            "text/plain": [
              "(3171, 1)"
            ]
          },
          "metadata": {
            "tags": []
          },
          "execution_count": 20
        }
      ]
    },
    {
      "cell_type": "code",
      "metadata": {
        "colab": {
          "base_uri": "https://localhost:8080/"
        },
        "id": "yJVupmMwF0jK",
        "outputId": "f2bf9a0f-c20d-4c8a-8848-132622cb1391"
      },
      "source": [
        "df_num = df.drop(['url','urlid','boilerplate','label'], axis=1)\r\n",
        "df_num.shape"
      ],
      "execution_count": null,
      "outputs": [
        {
          "output_type": "execute_result",
          "data": {
            "text/plain": [
              "(7395, 17)"
            ]
          },
          "metadata": {
            "tags": []
          },
          "execution_count": 21
        }
      ]
    },
    {
      "cell_type": "code",
      "metadata": {
        "colab": {
          "base_uri": "https://localhost:8080/"
        },
        "id": "vUaq9ApYK5my",
        "outputId": "98170284-ac2d-4103-808a-c4a140f94171"
      },
      "source": [
        "df_num_test = df_test.drop(['url','urlid','boilerplate'], axis=1)\r\n",
        "df_num_test.shape"
      ],
      "execution_count": null,
      "outputs": [
        {
          "output_type": "execute_result",
          "data": {
            "text/plain": [
              "(3171, 17)"
            ]
          },
          "metadata": {
            "tags": []
          },
          "execution_count": 22
        }
      ]
    },
    {
      "cell_type": "markdown",
      "metadata": {
        "id": "jjdBk92NYgI0"
      },
      "source": [
        "Creating separate numerical dataframes for both train and test data from the original data"
      ]
    },
    {
      "cell_type": "code",
      "metadata": {
        "colab": {
          "base_uri": "https://localhost:8080/"
        },
        "id": "D-Ni06TP-g-m",
        "outputId": "3edea319-8e92-40ac-ce2b-5c7f1307fa86"
      },
      "source": [
        "df_numerical= pd.concat([df_alc,df_lengthy,df_num], axis=1)\r\n",
        "df_numerical = df_numerical.drop(['alchemy_category','lengthyLinkDomain'],axis=1)\r\n",
        "df_numerical.shape"
      ],
      "execution_count": null,
      "outputs": [
        {
          "output_type": "execute_result",
          "data": {
            "text/plain": [
              "(7395, 29)"
            ]
          },
          "metadata": {
            "tags": []
          },
          "execution_count": 23
        }
      ]
    },
    {
      "cell_type": "code",
      "metadata": {
        "colab": {
          "base_uri": "https://localhost:8080/",
          "height": 224
        },
        "id": "NLAjwOqX_nYt",
        "outputId": "ef8face5-0909-4e62-847e-491e1849f5fb"
      },
      "source": [
        "df_numerical.head()"
      ],
      "execution_count": null,
      "outputs": [
        {
          "output_type": "execute_result",
          "data": {
            "text/html": [
              "<div>\n",
              "<style scoped>\n",
              "    .dataframe tbody tr th:only-of-type {\n",
              "        vertical-align: middle;\n",
              "    }\n",
              "\n",
              "    .dataframe tbody tr th {\n",
              "        vertical-align: top;\n",
              "    }\n",
              "\n",
              "    .dataframe thead th {\n",
              "        text-align: right;\n",
              "    }\n",
              "</style>\n",
              "<table border=\"1\" class=\"dataframe\">\n",
              "  <thead>\n",
              "    <tr style=\"text-align: right;\">\n",
              "      <th></th>\n",
              "      <th>arts_entertainment</th>\n",
              "      <th>business</th>\n",
              "      <th>computer_internet</th>\n",
              "      <th>culture_politics</th>\n",
              "      <th>gaming</th>\n",
              "      <th>health</th>\n",
              "      <th>law_crime</th>\n",
              "      <th>recreation</th>\n",
              "      <th>religion</th>\n",
              "      <th>science_technology</th>\n",
              "      <th>sports</th>\n",
              "      <th>unknown</th>\n",
              "      <th>weather</th>\n",
              "      <th>1</th>\n",
              "      <th>avglinksize</th>\n",
              "      <th>commonlinkratio_1</th>\n",
              "      <th>commonlinkratio_2</th>\n",
              "      <th>commonlinkratio_3</th>\n",
              "      <th>commonlinkratio_4</th>\n",
              "      <th>compression_ratio</th>\n",
              "      <th>frameTagRatio</th>\n",
              "      <th>html_ratio</th>\n",
              "      <th>image_ratio</th>\n",
              "      <th>linkwordscore</th>\n",
              "      <th>non_markup_alphanum_characters</th>\n",
              "      <th>numberOfLinks</th>\n",
              "      <th>numwords_in_url</th>\n",
              "      <th>parametrizedLinkRatio</th>\n",
              "      <th>spelling_errors_ratio</th>\n",
              "    </tr>\n",
              "  </thead>\n",
              "  <tbody>\n",
              "    <tr>\n",
              "      <th>0</th>\n",
              "      <td>0</td>\n",
              "      <td>1</td>\n",
              "      <td>0</td>\n",
              "      <td>0</td>\n",
              "      <td>0</td>\n",
              "      <td>0</td>\n",
              "      <td>0</td>\n",
              "      <td>0</td>\n",
              "      <td>0</td>\n",
              "      <td>0</td>\n",
              "      <td>0</td>\n",
              "      <td>0</td>\n",
              "      <td>0</td>\n",
              "      <td>1</td>\n",
              "      <td>2.055556</td>\n",
              "      <td>0.676471</td>\n",
              "      <td>0.205882</td>\n",
              "      <td>0.047059</td>\n",
              "      <td>0.023529</td>\n",
              "      <td>0.443783</td>\n",
              "      <td>0.090774</td>\n",
              "      <td>0.245831</td>\n",
              "      <td>0.003883</td>\n",
              "      <td>24</td>\n",
              "      <td>5424</td>\n",
              "      <td>170</td>\n",
              "      <td>8</td>\n",
              "      <td>0.152941</td>\n",
              "      <td>0.079130</td>\n",
              "    </tr>\n",
              "    <tr>\n",
              "      <th>1</th>\n",
              "      <td>0</td>\n",
              "      <td>0</td>\n",
              "      <td>0</td>\n",
              "      <td>0</td>\n",
              "      <td>0</td>\n",
              "      <td>0</td>\n",
              "      <td>0</td>\n",
              "      <td>1</td>\n",
              "      <td>0</td>\n",
              "      <td>0</td>\n",
              "      <td>0</td>\n",
              "      <td>0</td>\n",
              "      <td>0</td>\n",
              "      <td>1</td>\n",
              "      <td>3.677966</td>\n",
              "      <td>0.508021</td>\n",
              "      <td>0.288770</td>\n",
              "      <td>0.213904</td>\n",
              "      <td>0.144385</td>\n",
              "      <td>0.468649</td>\n",
              "      <td>0.098707</td>\n",
              "      <td>0.203490</td>\n",
              "      <td>0.088652</td>\n",
              "      <td>40</td>\n",
              "      <td>4973</td>\n",
              "      <td>187</td>\n",
              "      <td>9</td>\n",
              "      <td>0.181818</td>\n",
              "      <td>0.125448</td>\n",
              "    </tr>\n",
              "    <tr>\n",
              "      <th>2</th>\n",
              "      <td>0</td>\n",
              "      <td>0</td>\n",
              "      <td>0</td>\n",
              "      <td>0</td>\n",
              "      <td>0</td>\n",
              "      <td>1</td>\n",
              "      <td>0</td>\n",
              "      <td>0</td>\n",
              "      <td>0</td>\n",
              "      <td>0</td>\n",
              "      <td>0</td>\n",
              "      <td>0</td>\n",
              "      <td>0</td>\n",
              "      <td>1</td>\n",
              "      <td>2.382883</td>\n",
              "      <td>0.562016</td>\n",
              "      <td>0.321705</td>\n",
              "      <td>0.120155</td>\n",
              "      <td>0.042636</td>\n",
              "      <td>0.525448</td>\n",
              "      <td>0.072448</td>\n",
              "      <td>0.226402</td>\n",
              "      <td>0.120536</td>\n",
              "      <td>55</td>\n",
              "      <td>2240</td>\n",
              "      <td>258</td>\n",
              "      <td>11</td>\n",
              "      <td>0.166667</td>\n",
              "      <td>0.057613</td>\n",
              "    </tr>\n",
              "    <tr>\n",
              "      <th>3</th>\n",
              "      <td>0</td>\n",
              "      <td>0</td>\n",
              "      <td>0</td>\n",
              "      <td>0</td>\n",
              "      <td>0</td>\n",
              "      <td>1</td>\n",
              "      <td>0</td>\n",
              "      <td>0</td>\n",
              "      <td>0</td>\n",
              "      <td>0</td>\n",
              "      <td>0</td>\n",
              "      <td>0</td>\n",
              "      <td>0</td>\n",
              "      <td>0</td>\n",
              "      <td>1.543103</td>\n",
              "      <td>0.400000</td>\n",
              "      <td>0.100000</td>\n",
              "      <td>0.016667</td>\n",
              "      <td>0.000000</td>\n",
              "      <td>0.480725</td>\n",
              "      <td>0.095861</td>\n",
              "      <td>0.265656</td>\n",
              "      <td>0.035343</td>\n",
              "      <td>24</td>\n",
              "      <td>2737</td>\n",
              "      <td>120</td>\n",
              "      <td>5</td>\n",
              "      <td>0.041667</td>\n",
              "      <td>0.100858</td>\n",
              "    </tr>\n",
              "    <tr>\n",
              "      <th>4</th>\n",
              "      <td>0</td>\n",
              "      <td>0</td>\n",
              "      <td>0</td>\n",
              "      <td>0</td>\n",
              "      <td>0</td>\n",
              "      <td>0</td>\n",
              "      <td>0</td>\n",
              "      <td>0</td>\n",
              "      <td>0</td>\n",
              "      <td>0</td>\n",
              "      <td>1</td>\n",
              "      <td>0</td>\n",
              "      <td>0</td>\n",
              "      <td>1</td>\n",
              "      <td>2.676471</td>\n",
              "      <td>0.500000</td>\n",
              "      <td>0.222222</td>\n",
              "      <td>0.123457</td>\n",
              "      <td>0.043210</td>\n",
              "      <td>0.446143</td>\n",
              "      <td>0.024908</td>\n",
              "      <td>0.228887</td>\n",
              "      <td>0.050473</td>\n",
              "      <td>14</td>\n",
              "      <td>12032</td>\n",
              "      <td>162</td>\n",
              "      <td>10</td>\n",
              "      <td>0.098765</td>\n",
              "      <td>0.082569</td>\n",
              "    </tr>\n",
              "  </tbody>\n",
              "</table>\n",
              "</div>"
            ],
            "text/plain": [
              "   arts_entertainment  business  ...  parametrizedLinkRatio  spelling_errors_ratio\n",
              "0                   0         1  ...               0.152941               0.079130\n",
              "1                   0         0  ...               0.181818               0.125448\n",
              "2                   0         0  ...               0.166667               0.057613\n",
              "3                   0         0  ...               0.041667               0.100858\n",
              "4                   0         0  ...               0.098765               0.082569\n",
              "\n",
              "[5 rows x 29 columns]"
            ]
          },
          "metadata": {
            "tags": []
          },
          "execution_count": 24
        }
      ]
    },
    {
      "cell_type": "markdown",
      "metadata": {
        "id": "fzSF1NraYy5z"
      },
      "source": [
        "Dropping columns which are not present in the test data"
      ]
    },
    {
      "cell_type": "code",
      "metadata": {
        "id": "tHXukeZFjJQ9"
      },
      "source": [
        "df_numerical = df_numerical.drop(['unknown','weather'],axis=1)"
      ],
      "execution_count": null,
      "outputs": []
    },
    {
      "cell_type": "code",
      "metadata": {
        "colab": {
          "base_uri": "https://localhost:8080/"
        },
        "id": "5Glo1nq8LEYr",
        "outputId": "fa0dfdc2-ba42-4232-f36c-f864b94a5da9"
      },
      "source": [
        "df_numerical_test= pd.concat([df_alc_test,df_lengthy_test,df_num_test], axis=1)\r\n",
        "df_numerical_test = df_numerical_test.drop(['alchemy_category','lengthyLinkDomain'],axis=1)\r\n",
        "df_numerical_test.shape"
      ],
      "execution_count": null,
      "outputs": [
        {
          "output_type": "execute_result",
          "data": {
            "text/plain": [
              "(3171, 27)"
            ]
          },
          "metadata": {
            "tags": []
          },
          "execution_count": 26
        }
      ]
    },
    {
      "cell_type": "code",
      "metadata": {
        "colab": {
          "base_uri": "https://localhost:8080/",
          "height": 224
        },
        "id": "KltKTKq6h81c",
        "outputId": "ad458b35-a3c7-444c-8388-430122a6d40a"
      },
      "source": [
        "df_numerical_test.head()"
      ],
      "execution_count": null,
      "outputs": [
        {
          "output_type": "execute_result",
          "data": {
            "text/html": [
              "<div>\n",
              "<style scoped>\n",
              "    .dataframe tbody tr th:only-of-type {\n",
              "        vertical-align: middle;\n",
              "    }\n",
              "\n",
              "    .dataframe tbody tr th {\n",
              "        vertical-align: top;\n",
              "    }\n",
              "\n",
              "    .dataframe thead th {\n",
              "        text-align: right;\n",
              "    }\n",
              "</style>\n",
              "<table border=\"1\" class=\"dataframe\">\n",
              "  <thead>\n",
              "    <tr style=\"text-align: right;\">\n",
              "      <th></th>\n",
              "      <th>arts_entertainment</th>\n",
              "      <th>business</th>\n",
              "      <th>computer_internet</th>\n",
              "      <th>culture_politics</th>\n",
              "      <th>gaming</th>\n",
              "      <th>health</th>\n",
              "      <th>law_crime</th>\n",
              "      <th>recreation</th>\n",
              "      <th>religion</th>\n",
              "      <th>science_technology</th>\n",
              "      <th>sports</th>\n",
              "      <th>1</th>\n",
              "      <th>avglinksize</th>\n",
              "      <th>commonlinkratio_1</th>\n",
              "      <th>commonlinkratio_2</th>\n",
              "      <th>commonlinkratio_3</th>\n",
              "      <th>commonlinkratio_4</th>\n",
              "      <th>compression_ratio</th>\n",
              "      <th>frameTagRatio</th>\n",
              "      <th>html_ratio</th>\n",
              "      <th>image_ratio</th>\n",
              "      <th>linkwordscore</th>\n",
              "      <th>non_markup_alphanum_characters</th>\n",
              "      <th>numberOfLinks</th>\n",
              "      <th>numwords_in_url</th>\n",
              "      <th>parametrizedLinkRatio</th>\n",
              "      <th>spelling_errors_ratio</th>\n",
              "    </tr>\n",
              "  </thead>\n",
              "  <tbody>\n",
              "    <tr>\n",
              "      <th>0</th>\n",
              "      <td>0</td>\n",
              "      <td>0</td>\n",
              "      <td>0</td>\n",
              "      <td>0</td>\n",
              "      <td>0</td>\n",
              "      <td>0</td>\n",
              "      <td>0</td>\n",
              "      <td>1</td>\n",
              "      <td>0</td>\n",
              "      <td>0</td>\n",
              "      <td>0</td>\n",
              "      <td>1</td>\n",
              "      <td>2.558140</td>\n",
              "      <td>0.389706</td>\n",
              "      <td>0.257353</td>\n",
              "      <td>0.044118</td>\n",
              "      <td>0.022059</td>\n",
              "      <td>0.489572</td>\n",
              "      <td>0.067143</td>\n",
              "      <td>0.230285</td>\n",
              "      <td>0.199438</td>\n",
              "      <td>15</td>\n",
              "      <td>5643</td>\n",
              "      <td>136</td>\n",
              "      <td>3</td>\n",
              "      <td>0.242647</td>\n",
              "      <td>0.080597</td>\n",
              "    </tr>\n",
              "    <tr>\n",
              "      <th>1</th>\n",
              "      <td>0</td>\n",
              "      <td>0</td>\n",
              "      <td>0</td>\n",
              "      <td>1</td>\n",
              "      <td>0</td>\n",
              "      <td>0</td>\n",
              "      <td>0</td>\n",
              "      <td>0</td>\n",
              "      <td>0</td>\n",
              "      <td>0</td>\n",
              "      <td>0</td>\n",
              "      <td>1</td>\n",
              "      <td>3.771429</td>\n",
              "      <td>0.461538</td>\n",
              "      <td>0.205128</td>\n",
              "      <td>0.051282</td>\n",
              "      <td>0.000000</td>\n",
              "      <td>0.782051</td>\n",
              "      <td>0.042857</td>\n",
              "      <td>0.365962</td>\n",
              "      <td>0.080000</td>\n",
              "      <td>62</td>\n",
              "      <td>382</td>\n",
              "      <td>39</td>\n",
              "      <td>2</td>\n",
              "      <td>0.128205</td>\n",
              "      <td>0.176471</td>\n",
              "    </tr>\n",
              "    <tr>\n",
              "      <th>2</th>\n",
              "      <td>0</td>\n",
              "      <td>0</td>\n",
              "      <td>0</td>\n",
              "      <td>0</td>\n",
              "      <td>0</td>\n",
              "      <td>0</td>\n",
              "      <td>0</td>\n",
              "      <td>0</td>\n",
              "      <td>0</td>\n",
              "      <td>0</td>\n",
              "      <td>0</td>\n",
              "      <td>1</td>\n",
              "      <td>2.269565</td>\n",
              "      <td>0.495726</td>\n",
              "      <td>0.384615</td>\n",
              "      <td>0.170940</td>\n",
              "      <td>0.170940</td>\n",
              "      <td>1.250000</td>\n",
              "      <td>0.058824</td>\n",
              "      <td>0.161901</td>\n",
              "      <td>10.000000</td>\n",
              "      <td>42</td>\n",
              "      <td>2420</td>\n",
              "      <td>117</td>\n",
              "      <td>1</td>\n",
              "      <td>0.581197</td>\n",
              "      <td>0.125000</td>\n",
              "    </tr>\n",
              "    <tr>\n",
              "      <th>3</th>\n",
              "      <td>0</td>\n",
              "      <td>0</td>\n",
              "      <td>0</td>\n",
              "      <td>1</td>\n",
              "      <td>0</td>\n",
              "      <td>0</td>\n",
              "      <td>0</td>\n",
              "      <td>0</td>\n",
              "      <td>0</td>\n",
              "      <td>0</td>\n",
              "      <td>0</td>\n",
              "      <td>1</td>\n",
              "      <td>2.523490</td>\n",
              "      <td>0.705502</td>\n",
              "      <td>0.346278</td>\n",
              "      <td>0.122977</td>\n",
              "      <td>0.090615</td>\n",
              "      <td>0.449366</td>\n",
              "      <td>0.058081</td>\n",
              "      <td>0.146593</td>\n",
              "      <td>0.005964</td>\n",
              "      <td>41</td>\n",
              "      <td>5559</td>\n",
              "      <td>309</td>\n",
              "      <td>10</td>\n",
              "      <td>0.038835</td>\n",
              "      <td>0.063126</td>\n",
              "    </tr>\n",
              "    <tr>\n",
              "      <th>4</th>\n",
              "      <td>0</td>\n",
              "      <td>0</td>\n",
              "      <td>0</td>\n",
              "      <td>0</td>\n",
              "      <td>0</td>\n",
              "      <td>0</td>\n",
              "      <td>0</td>\n",
              "      <td>0</td>\n",
              "      <td>0</td>\n",
              "      <td>1</td>\n",
              "      <td>0</td>\n",
              "      <td>0</td>\n",
              "      <td>1.848000</td>\n",
              "      <td>0.470968</td>\n",
              "      <td>0.161290</td>\n",
              "      <td>0.032258</td>\n",
              "      <td>0.000000</td>\n",
              "      <td>0.453757</td>\n",
              "      <td>0.093023</td>\n",
              "      <td>0.244141</td>\n",
              "      <td>0.035714</td>\n",
              "      <td>34</td>\n",
              "      <td>2209</td>\n",
              "      <td>155</td>\n",
              "      <td>10</td>\n",
              "      <td>0.096774</td>\n",
              "      <td>0.065341</td>\n",
              "    </tr>\n",
              "  </tbody>\n",
              "</table>\n",
              "</div>"
            ],
            "text/plain": [
              "   arts_entertainment  business  ...  parametrizedLinkRatio  spelling_errors_ratio\n",
              "0                   0         0  ...               0.242647               0.080597\n",
              "1                   0         0  ...               0.128205               0.176471\n",
              "2                   0         0  ...               0.581197               0.125000\n",
              "3                   0         0  ...               0.038835               0.063126\n",
              "4                   0         0  ...               0.096774               0.065341\n",
              "\n",
              "[5 rows x 27 columns]"
            ]
          },
          "metadata": {
            "tags": []
          },
          "execution_count": 27
        }
      ]
    },
    {
      "cell_type": "markdown",
      "metadata": {
        "id": "BjJBkC8LZGBW"
      },
      "source": [
        "Applying scaling to the numerical data"
      ]
    },
    {
      "cell_type": "code",
      "metadata": {
        "id": "uLZuAlb4e248"
      },
      "source": [
        "from sklearn.preprocessing import MinMaxScaler\r\n",
        "\r\n",
        "# fit scaler on training data\r\n",
        "norm = MinMaxScaler()\r\n",
        "\r\n",
        "# transform training data\r\n",
        "df_numerical = pd.DataFrame(norm.fit_transform(df_numerical))"
      ],
      "execution_count": null,
      "outputs": []
    },
    {
      "cell_type": "code",
      "metadata": {
        "colab": {
          "base_uri": "https://localhost:8080/"
        },
        "id": "rVGs2pAvjpl5",
        "outputId": "c664927b-e748-43a6-eb0c-2c4adb75e0e2"
      },
      "source": [
        "df_numerical.shape"
      ],
      "execution_count": null,
      "outputs": [
        {
          "output_type": "execute_result",
          "data": {
            "text/plain": [
              "(7395, 27)"
            ]
          },
          "metadata": {
            "tags": []
          },
          "execution_count": 29
        }
      ]
    },
    {
      "cell_type": "code",
      "metadata": {
        "id": "DI1qIff0gxrG"
      },
      "source": [
        "df_numerical_test = pd.DataFrame(norm.transform(df_numerical_test))"
      ],
      "execution_count": null,
      "outputs": []
    },
    {
      "cell_type": "code",
      "metadata": {
        "colab": {
          "base_uri": "https://localhost:8080/"
        },
        "id": "1rJeRI4cjuGY",
        "outputId": "a9758565-426c-418f-ebcd-707fd18e9dab"
      },
      "source": [
        "df_numerical_test.shape"
      ],
      "execution_count": null,
      "outputs": [
        {
          "output_type": "execute_result",
          "data": {
            "text/plain": [
              "(3171, 27)"
            ]
          },
          "metadata": {
            "tags": []
          },
          "execution_count": 31
        }
      ]
    },
    {
      "cell_type": "markdown",
      "metadata": {
        "id": "kfkU7LkdZPw3"
      },
      "source": [
        "Applying Priciple Component Analysis for dimensionality reduction"
      ]
    },
    {
      "cell_type": "code",
      "metadata": {
        "colab": {
          "base_uri": "https://localhost:8080/",
          "height": 298
        },
        "id": "a6Ppiyxd5JHX",
        "outputId": "6c75edc2-964f-45e1-c2b4-d842e25f8546"
      },
      "source": [
        "from sklearn.decomposition import PCA\r\n",
        "pca = PCA(n_components=10)\r\n",
        "pca_result = pca.fit_transform(df_numerical.values)\r\n",
        "\r\n",
        "plt.plot(range(10), pca.explained_variance_ratio_)\r\n",
        "plt.plot(range(10), np.cumsum(pca.explained_variance_ratio_))\r\n",
        "plt.title(\"Component-wise and Cumulative Explained Variance\")"
      ],
      "execution_count": null,
      "outputs": [
        {
          "output_type": "execute_result",
          "data": {
            "text/plain": [
              "Text(0.5, 1.0, 'Component-wise and Cumulative Explained Variance')"
            ]
          },
          "metadata": {
            "tags": []
          },
          "execution_count": 32
        },
        {
          "output_type": "display_data",
          "data": {
            "image/png": "[encoded data removed]",
            "text/plain": [
              "<Figure size 432x288 with 1 Axes>"
            ]
          },
          "metadata": {
            "tags": [],
            "needs_background": "light"
          }
        }
      ]
    },
    {
      "cell_type": "markdown",
      "metadata": {
        "id": "RwO2pwf-ZhTN"
      },
      "source": [
        "From the graph, it is evident that considering n_components value as 6 is enough"
      ]
    },
    {
      "cell_type": "code",
      "metadata": {
        "colab": {
          "base_uri": "https://localhost:8080/",
          "height": 298
        },
        "id": "8--NXY1l59Ky",
        "outputId": "d23ca33e-dfa6-49c8-e6d4-9024fe6be86b"
      },
      "source": [
        "from sklearn.decomposition import PCA\r\n",
        "pca = PCA(n_components=6)\r\n",
        "df_numerical = pd.DataFrame(pca.fit_transform(df_numerical.values))\r\n",
        "\r\n",
        "plt.plot(range(6), pca.explained_variance_ratio_)\r\n",
        "plt.plot(range(6), np.cumsum(pca.explained_variance_ratio_))\r\n",
        "plt.title(\"Component-wise and Cumulative Explained Variance\")"
      ],
      "execution_count": null,
      "outputs": [
        {
          "output_type": "execute_result",
          "data": {
            "text/plain": [
              "Text(0.5, 1.0, 'Component-wise and Cumulative Explained Variance')"
            ]
          },
          "metadata": {
            "tags": []
          },
          "execution_count": 33
        },
        {
          "output_type": "display_data",
          "data": {
            "image/png": "[encoded data removed]",
            "text/plain": [
              "<Figure size 432x288 with 1 Axes>"
            ]
          },
          "metadata": {
            "tags": [],
            "needs_background": "light"
          }
        }
      ]
    },
    {
      "cell_type": "code",
      "metadata": {
        "colab": {
          "base_uri": "https://localhost:8080/"
        },
        "id": "leCCga4v5hSg",
        "outputId": "d8fcb39e-fd4f-4eb8-9429-257d8445957c"
      },
      "source": [
        "pca.explained_variance_ratio_"
      ],
      "execution_count": null,
      "outputs": [
        {
          "output_type": "execute_result",
          "data": {
            "text/plain": [
              "array([0.22133837, 0.13819098, 0.11092576, 0.08638501, 0.06844209,\n",
              "       0.05616609])"
            ]
          },
          "metadata": {
            "tags": []
          },
          "execution_count": 34
        }
      ]
    },
    {
      "cell_type": "code",
      "metadata": {
        "id": "smLK2QKd6dIP"
      },
      "source": [
        "df_numerical_test = pd.DataFrame(pca.transform(df_numerical_test))"
      ],
      "execution_count": null,
      "outputs": []
    },
    {
      "cell_type": "markdown",
      "metadata": {
        "id": "EGZtcqvkZ4wd"
      },
      "source": [
        "Creating separate text dataframes"
      ]
    },
    {
      "cell_type": "code",
      "metadata": {
        "id": "LS3Zlv7Pc1dZ"
      },
      "source": [
        "df_text = df[['boilerplate']]\r\n",
        "df_text_test = df_test[['boilerplate']]"
      ],
      "execution_count": null,
      "outputs": []
    },
    {
      "cell_type": "markdown",
      "metadata": {
        "id": "avaQ_6haaFRR"
      },
      "source": [
        "Removing the title and url word from each description"
      ]
    },
    {
      "cell_type": "code",
      "metadata": {
        "colab": {
          "base_uri": "https://localhost:8080/"
        },
        "id": "7jDKUOcOL7oL",
        "outputId": "e56e5968-0d9b-4684-f348-16bffd20dcc5"
      },
      "source": [
        "df_text['boilerplate'].replace(to_replace=r'\"title\":', value=\"\",inplace=True,regex=True)\r\n",
        "df_text['boilerplate'].replace(to_replace=r'\"url\":',value=\"\",inplace=True,regex=True)\r\n",
        "\r\n",
        "df_text['boilerplate'].replace(to_replace=r'{|}',value=\"\",inplace=True,regex=True)\r\n",
        "df_text['boilerplate']=df_text['boilerplate'].str.lower()\r\n",
        "\r\n",
        "\r\n",
        "#Cleaning the test dataframe \r\n",
        "\r\n",
        "df_text_test['boilerplate'].replace(to_replace=r'\"title\":', value=\"\",inplace=True,regex=True)\r\n",
        "df_text_test['boilerplate'].replace(to_replace=r'\"url\":',value=\"\",inplace=True,regex=True)\r\n",
        "\r\n",
        "df_text_test['boilerplate'].replace(to_replace=r'{|}',value=\"\",inplace=True,regex=True)\r\n",
        "df_text_test['boilerplate']=df_text_test['boilerplate'].str.lower()"
      ],
      "execution_count": null,
      "outputs": [
        {
          "output_type": "stream",
          "text": [
            "/usr/local/lib/python3.7/dist-packages/pandas/core/series.py:4582: SettingWithCopyWarning: \n",
            "A value is trying to be set on a copy of a slice from a DataFrame\n",
            "\n",
            "See the caveats in the documentation: https://pandas.pydata.org/pandas-docs/stable/user_guide/indexing.html#returning-a-view-versus-a-copy\n",
            "  method=method,\n",
            "/usr/local/lib/python3.7/dist-packages/ipykernel_launcher.py:5: SettingWithCopyWarning: \n",
            "A value is trying to be set on a copy of a slice from a DataFrame.\n",
            "Try using .loc[row_indexer,col_indexer] = value instead\n",
            "\n",
            "See the caveats in the documentation: https://pandas.pydata.org/pandas-docs/stable/user_guide/indexing.html#returning-a-view-versus-a-copy\n",
            "  \"\"\"\n",
            "/usr/local/lib/python3.7/dist-packages/ipykernel_launcher.py:14: SettingWithCopyWarning: \n",
            "A value is trying to be set on a copy of a slice from a DataFrame.\n",
            "Try using .loc[row_indexer,col_indexer] = value instead\n",
            "\n",
            "See the caveats in the documentation: https://pandas.pydata.org/pandas-docs/stable/user_guide/indexing.html#returning-a-view-versus-a-copy\n",
            "  \n"
          ],
          "name": "stderr"
        }
      ]
    },
    {
      "cell_type": "markdown",
      "metadata": {
        "id": "lxz9Se81aUpk"
      },
      "source": [
        "Concatnating both the numerical and text dataframes to do train test split"
      ]
    },
    {
      "cell_type": "code",
      "metadata": {
        "id": "c71_i6MPkQzj"
      },
      "source": [
        "df_train = pd.concat([df_numerical,df_text,df[['label']]], axis=1)"
      ],
      "execution_count": null,
      "outputs": []
    },
    {
      "cell_type": "code",
      "metadata": {
        "id": "cruNQsSfl7Sv"
      },
      "source": [
        "df_test = pd.concat([df_numerical_test,df_text_test], axis=1)"
      ],
      "execution_count": null,
      "outputs": []
    },
    {
      "cell_type": "code",
      "metadata": {
        "colab": {
          "base_uri": "https://localhost:8080/"
        },
        "id": "Ki1XGNyS27R2",
        "outputId": "78a4841c-1c12-4a2c-ab72-484e73b882fd"
      },
      "source": [
        "df_test.shape"
      ],
      "execution_count": null,
      "outputs": [
        {
          "output_type": "execute_result",
          "data": {
            "text/plain": [
              "(3171, 7)"
            ]
          },
          "metadata": {
            "tags": []
          },
          "execution_count": 40
        }
      ]
    },
    {
      "cell_type": "code",
      "metadata": {
        "id": "TfV6_lDNngG6"
      },
      "source": [
        "X_train, X_val, y_train, y_val = train_test_split(df_train.drop(['label'],axis=1), df_train['label'], test_size=0.25, random_state=324, stratify=df_train['label'])"
      ],
      "execution_count": null,
      "outputs": []
    },
    {
      "cell_type": "code",
      "metadata": {
        "colab": {
          "base_uri": "https://localhost:8080/",
          "height": 419
        },
        "id": "uq0_QVCt1aV8",
        "outputId": "3f23dc9b-2d73-45cf-c240-7270eb1baaf9"
      },
      "source": [
        "X_train"
      ],
      "execution_count": null,
      "outputs": [
        {
          "output_type": "execute_result",
          "data": {
            "text/html": [
              "<div>\n",
              "<style scoped>\n",
              "    .dataframe tbody tr th:only-of-type {\n",
              "        vertical-align: middle;\n",
              "    }\n",
              "\n",
              "    .dataframe tbody tr th {\n",
              "        vertical-align: top;\n",
              "    }\n",
              "\n",
              "    .dataframe thead th {\n",
              "        text-align: right;\n",
              "    }\n",
              "</style>\n",
              "<table border=\"1\" class=\"dataframe\">\n",
              "  <thead>\n",
              "    <tr style=\"text-align: right;\">\n",
              "      <th></th>\n",
              "      <th>0</th>\n",
              "      <th>1</th>\n",
              "      <th>2</th>\n",
              "      <th>3</th>\n",
              "      <th>4</th>\n",
              "      <th>5</th>\n",
              "      <th>boilerplate</th>\n",
              "    </tr>\n",
              "  </thead>\n",
              "  <tbody>\n",
              "    <tr>\n",
              "      <th>4378</th>\n",
              "      <td>0.796815</td>\n",
              "      <td>-0.144212</td>\n",
              "      <td>0.049887</td>\n",
              "      <td>0.496646</td>\n",
              "      <td>0.731308</td>\n",
              "      <td>0.052826</td>\n",
              "      <td>\" \",\"body\":\" \",\"asiafood org\"</td>\n",
              "    </tr>\n",
              "    <tr>\n",
              "      <th>5705</th>\n",
              "      <td>-0.269177</td>\n",
              "      <td>0.850899</td>\n",
              "      <td>-0.092885</td>\n",
              "      <td>-0.194864</td>\n",
              "      <td>0.019977</td>\n",
              "      <td>0.007903</td>\n",
              "      <td>\"how to make a choco taco \",\"body\":\"choco taco...</td>\n",
              "    </tr>\n",
              "    <tr>\n",
              "      <th>2358</th>\n",
              "      <td>0.548534</td>\n",
              "      <td>-0.088912</td>\n",
              "      <td>0.063211</td>\n",
              "      <td>0.129721</td>\n",
              "      <td>-0.114713</td>\n",
              "      <td>0.013266</td>\n",
              "      <td>\"cheese stuffed garlic breadsticks \",\"body\":\"w...</td>\n",
              "    </tr>\n",
              "    <tr>\n",
              "      <th>2643</th>\n",
              "      <td>-0.402353</td>\n",
              "      <td>-0.043570</td>\n",
              "      <td>0.007055</td>\n",
              "      <td>0.123366</td>\n",
              "      <td>-0.028619</td>\n",
              "      <td>-0.056542</td>\n",
              "      <td>\"police muskegon man killed in crash discovere...</td>\n",
              "    </tr>\n",
              "    <tr>\n",
              "      <th>6981</th>\n",
              "      <td>0.796880</td>\n",
              "      <td>-0.468358</td>\n",
              "      <td>-0.665751</td>\n",
              "      <td>-0.418702</td>\n",
              "      <td>-0.101498</td>\n",
              "      <td>-0.011572</td>\n",
              "      <td>\"quantum levitation hoverboards are now a \",\"b...</td>\n",
              "    </tr>\n",
              "    <tr>\n",
              "      <th>...</th>\n",
              "      <td>...</td>\n",
              "      <td>...</td>\n",
              "      <td>...</td>\n",
              "      <td>...</td>\n",
              "      <td>...</td>\n",
              "      <td>...</td>\n",
              "      <td>...</td>\n",
              "    </tr>\n",
              "    <tr>\n",
              "      <th>5459</th>\n",
              "      <td>-0.413932</td>\n",
              "      <td>-0.095026</td>\n",
              "      <td>0.037973</td>\n",
              "      <td>0.398991</td>\n",
              "      <td>-0.503190</td>\n",
              "      <td>0.678104</td>\n",
              "      <td>\"17 ways to improve your sleep \",\"body\":\"welco...</td>\n",
              "    </tr>\n",
              "    <tr>\n",
              "      <th>1100</th>\n",
              "      <td>-0.453475</td>\n",
              "      <td>-0.061774</td>\n",
              "      <td>0.016910</td>\n",
              "      <td>0.241796</td>\n",
              "      <td>-0.027829</td>\n",
              "      <td>-0.162298</td>\n",
              "      <td>\"google to buy its own web domain google to bu...</td>\n",
              "    </tr>\n",
              "    <tr>\n",
              "      <th>2196</th>\n",
              "      <td>-0.360590</td>\n",
              "      <td>-0.398889</td>\n",
              "      <td>-0.720778</td>\n",
              "      <td>-0.362238</td>\n",
              "      <td>0.099833</td>\n",
              "      <td>0.075447</td>\n",
              "      <td>\"butterscotch blondie bars with peanut pretzel...</td>\n",
              "    </tr>\n",
              "    <tr>\n",
              "      <th>6062</th>\n",
              "      <td>-0.313654</td>\n",
              "      <td>-0.082053</td>\n",
              "      <td>0.017137</td>\n",
              "      <td>0.177852</td>\n",
              "      <td>-0.148091</td>\n",
              "      <td>-0.284779</td>\n",
              "      <td>\"sodexo s meatless mondays give where s the be...</td>\n",
              "    </tr>\n",
              "    <tr>\n",
              "      <th>1086</th>\n",
              "      <td>0.729278</td>\n",
              "      <td>-0.454958</td>\n",
              "      <td>-0.670565</td>\n",
              "      <td>-0.375377</td>\n",
              "      <td>0.011982</td>\n",
              "      <td>0.075450</td>\n",
              "      <td>\"cyanide happiness 69 explosm net \",\"body\":\"co...</td>\n",
              "    </tr>\n",
              "  </tbody>\n",
              "</table>\n",
              "<p>5546 rows × 7 columns</p>\n",
              "</div>"
            ],
            "text/plain": [
              "             0  ...                                        boilerplate\n",
              "4378  0.796815  ...                      \" \",\"body\":\" \",\"asiafood org\"\n",
              "5705 -0.269177  ...  \"how to make a choco taco \",\"body\":\"choco taco...\n",
              "2358  0.548534  ...  \"cheese stuffed garlic breadsticks \",\"body\":\"w...\n",
              "2643 -0.402353  ...  \"police muskegon man killed in crash discovere...\n",
              "6981  0.796880  ...  \"quantum levitation hoverboards are now a \",\"b...\n",
              "...        ...  ...                                                ...\n",
              "5459 -0.413932  ...  \"17 ways to improve your sleep \",\"body\":\"welco...\n",
              "1100 -0.453475  ...  \"google to buy its own web domain google to bu...\n",
              "2196 -0.360590  ...  \"butterscotch blondie bars with peanut pretzel...\n",
              "6062 -0.313654  ...  \"sodexo s meatless mondays give where s the be...\n",
              "1086  0.729278  ...  \"cyanide happiness 69 explosm net \",\"body\":\"co...\n",
              "\n",
              "[5546 rows x 7 columns]"
            ]
          },
          "metadata": {
            "tags": []
          },
          "execution_count": 42
        }
      ]
    },
    {
      "cell_type": "code",
      "metadata": {
        "colab": {
          "base_uri": "https://localhost:8080/"
        },
        "id": "sjvbXBK_P_o0",
        "outputId": "201cdee7-0ee4-46b1-efd8-df13defd00b2"
      },
      "source": [
        "from transformers import AutoTokenizer, TFAutoModel\r\n",
        "\r\n",
        "\r\n",
        "#Downloading the tokenizer and the Albert model for fine tuning\r\n",
        "\r\n",
        "tokenizer = AutoTokenizer.from_pretrained('bert-base-uncased')\r\n",
        "bert=TFAutoModel.from_pretrained('bert-base-uncased')"
      ],
      "execution_count": null,
      "outputs": [
        {
          "output_type": "stream",
          "text": [
            "Some layers from the model checkpoint at bert-base-uncased were not used when initializing TFBertModel: ['mlm___cls', 'nsp___cls']\n",
            "- This IS expected if you are initializing TFBertModel from the checkpoint of a model trained on another task or with another architecture (e.g. initializing a BertForSequenceClassification model from a BertForPreTraining model).\n",
            "- This IS NOT expected if you are initializing TFBertModel from the checkpoint of a model that you expect to be exactly identical (initializing a BertForSequenceClassification model from a BertForSequenceClassification model).\n",
            "All the layers of TFBertModel were initialized from the model checkpoint at bert-base-uncased.\n",
            "If your task is similar to the task the model of the checkpoint was trained on, you can already use TFBertModel for predictions without further training.\n"
          ],
          "name": "stderr"
        }
      ]
    },
    {
      "cell_type": "code",
      "metadata": {
        "id": "u79rAV40QmZV"
      },
      "source": [
        "SEQ_length=512"
      ],
      "execution_count": null,
      "outputs": []
    },
    {
      "cell_type": "markdown",
      "metadata": {
        "id": "ePbPhiJsa2__"
      },
      "source": [
        "Tokenizing the text data"
      ]
    },
    {
      "cell_type": "code",
      "metadata": {
        "id": "6q1Mrpn-RUAm"
      },
      "source": [
        "train_tokens = tokenizer.batch_encode_plus(X_train['boilerplate'].to_list(),max_length=SEQ_length,padding=True,\r\n",
        "                           truncation=True,return_token_type_ids=False)\r\n",
        "\r\n",
        "val_tokens = tokenizer.batch_encode_plus(X_val['boilerplate'].to_list(),max_length=SEQ_length,padding=True,\r\n",
        "                           truncation=True,return_token_type_ids=False)\r\n",
        "\r\n",
        "test_tokens = tokenizer.batch_encode_plus(df_test['boilerplate'].to_list(),max_length=SEQ_length,padding=True,\r\n",
        "                           truncation=True,return_token_type_ids=False)"
      ],
      "execution_count": null,
      "outputs": []
    },
    {
      "cell_type": "code",
      "metadata": {
        "id": "ByyTqKjrS2tC"
      },
      "source": [
        "# for train set\r\n",
        "train_seq = torch.tensor(train_tokens['input_ids'])\r\n",
        "train_mask = torch.tensor(train_tokens['attention_mask'])\r\n",
        "train_y = torch.tensor(y_train.tolist())\r\n",
        "\r\n",
        "# for validation set\r\n",
        "val_seq = torch.tensor(val_tokens['input_ids'])\r\n",
        "val_mask = torch.tensor(val_tokens['attention_mask'])\r\n",
        "val_y = torch.tensor(y_val.tolist())\r\n",
        "\r\n",
        "# for test set\r\n",
        "test_seq = torch.tensor(test_tokens['input_ids'])\r\n",
        "test_mask = torch.tensor(test_tokens['attention_mask'])"
      ],
      "execution_count": null,
      "outputs": []
    },
    {
      "cell_type": "markdown",
      "metadata": {
        "id": "S_xYDVxmbTDD"
      },
      "source": [
        "Considering the numerical data as a meta data while creating dataset"
      ]
    },
    {
      "cell_type": "markdown",
      "metadata": {
        "id": "p0xPLjINbiX9"
      },
      "source": [
        "Train Data"
      ]
    },
    {
      "cell_type": "code",
      "metadata": {
        "id": "l0PNyly5ykXm"
      },
      "source": [
        "import tensorflow as tf\r\n",
        "train_data=tf.data.Dataset.from_tensor_slices((train_seq,train_mask,X_train.drop('boilerplate',axis=1),train_y))\r\n",
        "\r\n",
        "def map_func(input_ids,mask,meta_input,labels):\r\n",
        "    return {'input_ids':input_ids,'attention_mask':mask,'meta_input': meta_input},labels\r\n",
        "\r\n",
        "train_data = train_data.map(map_func)\r\n",
        "train_data = train_data.shuffle(100000).batch(32).prefetch(1000)\r\n",
        "\r\n",
        "DS_size=len(list(train_data))"
      ],
      "execution_count": null,
      "outputs": []
    },
    {
      "cell_type": "markdown",
      "metadata": {
        "id": "_GGgRAfKblGK"
      },
      "source": [
        "Validation data"
      ]
    },
    {
      "cell_type": "code",
      "metadata": {
        "id": "_XejZPX5zFXm"
      },
      "source": [
        "val_data=tf.data.Dataset.from_tensor_slices((val_seq,val_mask,X_val.drop('boilerplate',axis=1), val_y))\r\n",
        "\r\n",
        "def map_func(input_ids,mask,meta_input,labels):\r\n",
        "    return {'input_ids':input_ids,'attention_mask':mask,'meta_input': meta_input},labels\r\n",
        "\r\n",
        "val_data = val_data.map(map_func)\r\n",
        "val_data = val_data.shuffle(100000).batch(32).prefetch(1000)"
      ],
      "execution_count": null,
      "outputs": []
    },
    {
      "cell_type": "markdown",
      "metadata": {
        "id": "3QqTPE_dboIF"
      },
      "source": [
        "Test Data"
      ]
    },
    {
      "cell_type": "code",
      "metadata": {
        "id": "ReHVCdItzaYq"
      },
      "source": [
        "test_data=tf.data.Dataset.from_tensor_slices((test_seq,test_mask, df_test.drop('boilerplate',axis=1)))\r\n",
        "\r\n",
        "def map_func(input_ids,mask, meta_input):\r\n",
        "    return {'input_ids':input_ids,'attention_mask':mask,'meta_input': meta_input}\r\n",
        "\r\n",
        "test_data = test_data.map(map_func)\r\n",
        "test_data = test_data.shuffle(100000).batch(32).prefetch(1000)\r\n"
      ],
      "execution_count": null,
      "outputs": []
    },
    {
      "cell_type": "markdown",
      "metadata": {
        "id": "h1VeQ0Rrbq6H"
      },
      "source": [
        "**Building model**"
      ]
    },
    {
      "cell_type": "markdown",
      "metadata": {
        "id": "oUcPYsCOb0eX"
      },
      "source": [
        "![combine-244x300.png](data:image/png;base64,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)"
      ]
    },
    {
      "cell_type": "markdown",
      "metadata": {
        "id": "ORkA7aHtcTqA"
      },
      "source": [
        "Concatnating the numerical data and the embedded text data by following the above mentioned picture"
      ]
    },
    {
      "cell_type": "code",
      "metadata": {
        "colab": {
          "base_uri": "https://localhost:8080/"
        },
        "id": "maSjN7_Iz4f7",
        "outputId": "8d9af3f8-57bc-4349-b405-974ebadf821f"
      },
      "source": [
        "input_ids=tf.keras.layers.Input(shape=(SEQ_length,),name='input_ids',dtype='int32')\r\n",
        "input_mask=tf.keras.layers.Input(shape=(SEQ_length,),name='attention_mask',dtype='int32')\r\n",
        "\r\n",
        "meta_input = tf.keras.layers.Input(shape=(6,),name='meta_input')\r\n",
        "\r\n",
        "embedding=bert(input_ids,attention_mask=input_mask)[0]\r\n",
        "#x=tf.keras.layers.GlobalMaxPool1D()(embedding)\r\n",
        "x=tf.keras.layers.GlobalAveragePooling1D()(embedding)\r\n",
        "nlp_out=tf.keras.layers.BatchNormalization()(x)\r\n",
        "x = tf.keras.layers.concatenate([nlp_out, meta_input])\r\n",
        "x=tf.keras.layers.Dense(128,activation='relu')(x)\r\n",
        "x=tf.keras.layers.Dropout(0.3)(x)\r\n",
        "x=tf.keras.layers.Dense(64,activation='relu')(x)\r\n",
        "output=tf.keras.layers.Dense(1,activation='sigmoid')(x)\r\n",
        "\r\n",
        "\r\n",
        "model=tf.keras.Model(inputs=[input_ids,input_mask,meta_input],outputs=output)\r\n",
        "\r\n",
        "model.layers[2].trainable=False\r\n"
      ],
      "execution_count": null,
      "outputs": [
        {
          "output_type": "stream",
          "text": [
            "WARNING:tensorflow:The parameters `output_attentions`, `output_hidden_states` and `use_cache` cannot be updated when calling a model.They have to be set to True/False in the config object (i.e.: `config=XConfig.from_pretrained('name', output_attentions=True)`).\n",
            "WARNING:tensorflow:AutoGraph could not transform <bound method Socket.send of <zmq.sugar.socket.Socket object at 0x7f1d12825e50>> and will run it as-is.\n",
            "Please report this to the TensorFlow team. When filing the bug, set the verbosity to 10 (on Linux, `export AUTOGRAPH_VERBOSITY=10`) and attach the full output.\n",
            "Cause: module, class, method, function, traceback, frame, or code object was expected, got cython_function_or_method\n",
            "To silence this warning, decorate the function with @tf.autograph.experimental.do_not_convert\n",
            "WARNING: AutoGraph could not transform <bound method Socket.send of <zmq.sugar.socket.Socket object at 0x7f1d12825e50>> and will run it as-is.\n",
            "Please report this to the TensorFlow team. When filing the bug, set the verbosity to 10 (on Linux, `export AUTOGRAPH_VERBOSITY=10`) and attach the full output.\n",
            "Cause: module, class, method, function, traceback, frame, or code object was expected, got cython_function_or_method\n",
            "To silence this warning, decorate the function with @tf.autograph.experimental.do_not_convert\n",
            "WARNING:tensorflow:AutoGraph could not transform <function wrap at 0x7f1d2dc50c20> and will run it as-is.\n",
            "Cause: while/else statement not yet supported\n",
            "To silence this warning, decorate the function with @tf.autograph.experimental.do_not_convert\n",
            "WARNING: AutoGraph could not transform <function wrap at 0x7f1d2dc50c20> and will run it as-is.\n",
            "Cause: while/else statement not yet supported\n",
            "To silence this warning, decorate the function with @tf.autograph.experimental.do_not_convert\n",
            "WARNING:tensorflow:The parameter `return_dict` cannot be set in graph mode and will always be set to `True`.\n"
          ],
          "name": "stdout"
        }
      ]
    },
    {
      "cell_type": "code",
      "metadata": {
        "colab": {
          "base_uri": "https://localhost:8080/"
        },
        "id": "RHNzPFq86HJB",
        "outputId": "5185573a-3093-4001-dbe5-d3fd6221ef8b"
      },
      "source": [
        "model.summary()"
      ],
      "execution_count": null,
      "outputs": [
        {
          "output_type": "stream",
          "text": [
            "Model: \"model\"\n",
            "__________________________________________________________________________________________________\n",
            "Layer (type)                    Output Shape         Param #     Connected to                     \n",
            "==================================================================================================\n",
            "input_ids (InputLayer)          [(None, 512)]        0                                            \n",
            "__________________________________________________________________________________________________\n",
            "attention_mask (InputLayer)     [(None, 512)]        0                                            \n",
            "__________________________________________________________________________________________________\n",
            "tf_bert_model (TFBertModel)     TFBaseModelOutputWit 109482240   input_ids[0][0]                  \n",
            "                                                                 attention_mask[0][0]             \n",
            "__________________________________________________________________________________________________\n",
            "global_average_pooling1d (Globa (None, 768)          0           tf_bert_model[0][0]              \n",
            "__________________________________________________________________________________________________\n",
            "batch_normalization (BatchNorma (None, 768)          3072        global_average_pooling1d[0][0]   \n",
            "__________________________________________________________________________________________________\n",
            "meta_input (InputLayer)         [(None, 6)]          0                                            \n",
            "__________________________________________________________________________________________________\n",
            "concatenate (Concatenate)       (None, 774)          0           batch_normalization[0][0]        \n",
            "                                                                 meta_input[0][0]                 \n",
            "__________________________________________________________________________________________________\n",
            "dense (Dense)                   (None, 128)          99200       concatenate[0][0]                \n",
            "__________________________________________________________________________________________________\n",
            "dropout_37 (Dropout)            (None, 128)          0           dense[0][0]                      \n",
            "__________________________________________________________________________________________________\n",
            "dense_1 (Dense)                 (None, 64)           8256        dropout_37[0][0]                 \n",
            "__________________________________________________________________________________________________\n",
            "dense_2 (Dense)                 (None, 1)            65          dense_1[0][0]                    \n",
            "==================================================================================================\n",
            "Total params: 109,592,833\n",
            "Trainable params: 109,057\n",
            "Non-trainable params: 109,483,776\n",
            "__________________________________________________________________________________________________\n"
          ],
          "name": "stdout"
        }
      ]
    },
    {
      "cell_type": "markdown",
      "metadata": {
        "id": "VQTVbff1cmns"
      },
      "source": [
        "Compiling the model"
      ]
    },
    {
      "cell_type": "code",
      "metadata": {
        "id": "9yF_7uQe6ZOK"
      },
      "source": [
        "model.compile(loss=tf.keras.losses.BinaryCrossentropy(),\r\n",
        "              optimizer='adam',metrics=['accuracy',tf.keras.metrics.AUC(),tf.keras.metrics.Precision(),tf.keras.metrics.Recall()])"
      ],
      "execution_count": null,
      "outputs": []
    },
    {
      "cell_type": "markdown",
      "metadata": {
        "id": "X1ReL6DVcphe"
      },
      "source": [
        "Training the model with 20 epochs"
      ]
    },
    {
      "cell_type": "code",
      "metadata": {
        "colab": {
          "base_uri": "https://localhost:8080/"
        },
        "id": "IYmHXSGP7phI",
        "outputId": "a967c685-2928-4bfb-9131-d18f99af6d72"
      },
      "source": [
        "history=model.fit(train_data,validation_data=val_data,epochs=20)"
      ],
      "execution_count": null,
      "outputs": [
        {
          "output_type": "stream",
          "text": [
            "Epoch 1/20\n",
            "WARNING:tensorflow:The parameters `output_attentions`, `output_hidden_states` and `use_cache` cannot be updated when calling a model.They have to be set to True/False in the config object (i.e.: `config=XConfig.from_pretrained('name', output_attentions=True)`).\n",
            "WARNING:tensorflow:The parameter `return_dict` cannot be set in graph mode and will always be set to `True`.\n",
            "WARNING:tensorflow:The parameters `output_attentions`, `output_hidden_states` and `use_cache` cannot be updated when calling a model.They have to be set to True/False in the config object (i.e.: `config=XConfig.from_pretrained('name', output_attentions=True)`).\n",
            "WARNING:tensorflow:The parameter `return_dict` cannot be set in graph mode and will always be set to `True`.\n",
            "174/174 [==============================] - ETA: 0s - loss: 0.5606 - accuracy: 0.7409 - auc: 0.7965 - precision: 0.7651 - recall: 0.7172WARNING:tensorflow:The parameters `output_attentions`, `output_hidden_states` and `use_cache` cannot be updated when calling a model.They have to be set to True/False in the config object (i.e.: `config=XConfig.from_pretrained('name', output_attentions=True)`).\n",
            "WARNING:tensorflow:The parameter `return_dict` cannot be set in graph mode and will always be set to `True`.\n",
            "174/174 [==============================] - 371s 2s/step - loss: 0.5603 - accuracy: 0.7410 - auc: 0.7967 - precision: 0.7653 - recall: 0.7173 - val_loss: 0.5255 - val_accuracy: 0.7647 - val_auc: 0.8693 - val_precision: 0.7231 - val_recall: 0.8778\n",
            "Epoch 2/20\n",
            "174/174 [==============================] - 364s 2s/step - loss: 0.4483 - accuracy: 0.8018 - auc: 0.8721 - precision: 0.8255 - recall: 0.7851 - val_loss: 0.4647 - val_accuracy: 0.8188 - val_auc: 0.8782 - val_precision: 0.8287 - val_recall: 0.8156\n",
            "Epoch 3/20\n",
            "174/174 [==============================] - 363s 2s/step - loss: 0.4335 - accuracy: 0.8117 - auc: 0.8804 - precision: 0.8399 - recall: 0.7759 - val_loss: 0.4328 - val_accuracy: 0.8172 - val_auc: 0.8856 - val_precision: 0.8166 - val_recall: 0.8303\n",
            "Epoch 4/20\n",
            "174/174 [==============================] - 363s 2s/step - loss: 0.4251 - accuracy: 0.8056 - auc: 0.8854 - precision: 0.8286 - recall: 0.7878 - val_loss: 0.4347 - val_accuracy: 0.8118 - val_auc: 0.8802 - val_precision: 0.8180 - val_recall: 0.8145\n",
            "Epoch 5/20\n",
            "174/174 [==============================] - 363s 2s/step - loss: 0.4205 - accuracy: 0.8127 - auc: 0.8886 - precision: 0.8424 - recall: 0.7832 - val_loss: 0.4542 - val_accuracy: 0.7994 - val_auc: 0.8833 - val_precision: 0.7747 - val_recall: 0.8588\n",
            "Epoch 6/20\n",
            "174/174 [==============================] - 363s 2s/step - loss: 0.4160 - accuracy: 0.8191 - auc: 0.8920 - precision: 0.8456 - recall: 0.7900 - val_loss: 0.4345 - val_accuracy: 0.8150 - val_auc: 0.8800 - val_precision: 0.8288 - val_recall: 0.8061\n",
            "Epoch 7/20\n",
            "174/174 [==============================] - 364s 2s/step - loss: 0.3950 - accuracy: 0.8216 - auc: 0.9016 - precision: 0.8501 - recall: 0.7936 - val_loss: 0.4390 - val_accuracy: 0.8177 - val_auc: 0.8800 - val_precision: 0.8283 - val_recall: 0.8135\n",
            "Epoch 8/20\n",
            "174/174 [==============================] - 362s 2s/step - loss: 0.3769 - accuracy: 0.8327 - auc: 0.9116 - precision: 0.8530 - recall: 0.8152 - val_loss: 0.4375 - val_accuracy: 0.8140 - val_auc: 0.8770 - val_precision: 0.8321 - val_recall: 0.7987\n",
            "Epoch 9/20\n",
            "174/174 [==============================] - 363s 2s/step - loss: 0.3707 - accuracy: 0.8385 - auc: 0.9148 - precision: 0.8605 - recall: 0.8099 - val_loss: 0.4673 - val_accuracy: 0.8031 - val_auc: 0.8790 - val_precision: 0.7778 - val_recall: 0.8630\n",
            "Epoch 10/20\n",
            "174/174 [==============================] - 363s 2s/step - loss: 0.3776 - accuracy: 0.8318 - auc: 0.9113 - precision: 0.8413 - recall: 0.8220 - val_loss: 0.4615 - val_accuracy: 0.8140 - val_auc: 0.8767 - val_precision: 0.8571 - val_recall: 0.7650\n",
            "Epoch 11/20\n",
            "174/174 [==============================] - 364s 2s/step - loss: 0.3409 - accuracy: 0.8497 - auc: 0.9290 - precision: 0.8694 - recall: 0.8272 - val_loss: 0.4544 - val_accuracy: 0.8069 - val_auc: 0.8732 - val_precision: 0.8033 - val_recall: 0.8261\n",
            "Epoch 12/20\n",
            "174/174 [==============================] - 364s 2s/step - loss: 0.3464 - accuracy: 0.8441 - auc: 0.9276 - precision: 0.8598 - recall: 0.8347 - val_loss: 0.4662 - val_accuracy: 0.8080 - val_auc: 0.8729 - val_precision: 0.8120 - val_recall: 0.8145\n",
            "Epoch 13/20\n",
            "174/174 [==============================] - 363s 2s/step - loss: 0.3412 - accuracy: 0.8545 - auc: 0.9295 - precision: 0.8698 - recall: 0.8443 - val_loss: 0.4635 - val_accuracy: 0.8085 - val_auc: 0.8711 - val_precision: 0.8258 - val_recall: 0.7945\n",
            "Epoch 14/20\n",
            "174/174 [==============================] - 364s 2s/step - loss: 0.3242 - accuracy: 0.8629 - auc: 0.9361 - precision: 0.8806 - recall: 0.8492 - val_loss: 0.4753 - val_accuracy: 0.7950 - val_auc: 0.8732 - val_precision: 0.7885 - val_recall: 0.8209\n",
            "Epoch 15/20\n",
            "174/174 [==============================] - 364s 2s/step - loss: 0.3406 - accuracy: 0.8563 - auc: 0.9294 - precision: 0.8636 - recall: 0.8601 - val_loss: 0.4910 - val_accuracy: 0.7945 - val_auc: 0.8679 - val_precision: 0.7967 - val_recall: 0.8051\n",
            "Epoch 16/20\n",
            "174/174 [==============================] - 363s 2s/step - loss: 0.3275 - accuracy: 0.8546 - auc: 0.9342 - precision: 0.8658 - recall: 0.8409 - val_loss: 0.4788 - val_accuracy: 0.7956 - val_auc: 0.8709 - val_precision: 0.7959 - val_recall: 0.8093\n",
            "Epoch 17/20\n",
            "174/174 [==============================] - 363s 2s/step - loss: 0.3109 - accuracy: 0.8677 - auc: 0.9415 - precision: 0.8743 - recall: 0.8614 - val_loss: 0.5036 - val_accuracy: 0.7788 - val_auc: 0.8669 - val_precision: 0.7576 - val_recall: 0.8367\n",
            "Epoch 18/20\n",
            "174/174 [==============================] - 364s 2s/step - loss: 0.2796 - accuracy: 0.8878 - auc: 0.9536 - precision: 0.8998 - recall: 0.8826 - val_loss: 0.5091 - val_accuracy: 0.7966 - val_auc: 0.8620 - val_precision: 0.8025 - val_recall: 0.8008\n",
            "Epoch 19/20\n",
            "174/174 [==============================] - 364s 2s/step - loss: 0.2984 - accuracy: 0.8686 - auc: 0.9457 - precision: 0.8768 - recall: 0.8687 - val_loss: 0.5167 - val_accuracy: 0.7994 - val_auc: 0.8647 - val_precision: 0.8004 - val_recall: 0.8114\n",
            "Epoch 20/20\n",
            "174/174 [==============================] - 365s 2s/step - loss: 0.2913 - accuracy: 0.8799 - auc: 0.9483 - precision: 0.8814 - recall: 0.8802 - val_loss: 0.5283 - val_accuracy: 0.7934 - val_auc: 0.8711 - val_precision: 0.7799 - val_recall: 0.8325\n"
          ],
          "name": "stdout"
        }
      ]
    },
    {
      "cell_type": "code",
      "metadata": {
        "colab": {
          "base_uri": "https://localhost:8080/",
          "height": 281
        },
        "id": "a0HHV2MT8Djc",
        "outputId": "5b2ca4f9-b501-4517-a4ae-ba002307f88e"
      },
      "source": [
        "from matplotlib import pyplot\r\n",
        "\r\n",
        "# plot loss during training\r\n",
        "pyplot.subplot(2,1,1)\r\n",
        "pyplot.title('Loss')\r\n",
        "pyplot.plot(history.history['loss'], label='train')\r\n",
        "pyplot.plot(history.history['val_loss'], label='val')\r\n",
        "pyplot.legend()\r\n",
        "# plot accuracy during training\r\n",
        "pyplot.subplot(2,1,2)\r\n",
        "pyplot.title('Accuracy')\r\n",
        "pyplot.plot(history.history['accuracy'], label='train')\r\n",
        "pyplot.plot(history.history['val_accuracy'], label='val')\r\n",
        "pyplot.legend()\r\n",
        "pyplot.show()"
      ],
      "execution_count": null,
      "outputs": [
        {
          "output_type": "display_data",
          "data": {
            "image/png": "[encoded data removed]",
            "text/plain": [
              "<Figure size 432x288 with 2 Axes>"
            ]
          },
          "metadata": {
            "tags": [],
            "needs_background": "light"
          }
        }
      ]
    },
    {
      "cell_type": "markdown",
      "metadata": {
        "id": "gsiWg8J8c0iE"
      },
      "source": [
        "Predicting the test labels"
      ]
    },
    {
      "cell_type": "code",
      "metadata": {
        "colab": {
          "base_uri": "https://localhost:8080/"
        },
        "id": "YGSzHU7nBKjI",
        "outputId": "86f06b2f-35de-45f1-a529-4e5e63a4282d"
      },
      "source": [
        "predictions=model.predict(test_data)\r\n",
        "predictions = pd.DataFrame(predictions.round())"
      ],
      "execution_count": null,
      "outputs": [
        {
          "output_type": "stream",
          "text": [
            "WARNING:tensorflow:The parameters `output_attentions`, `output_hidden_states` and `use_cache` cannot be updated when calling a model.They have to be set to True/False in the config object (i.e.: `config=XConfig.from_pretrained('name', output_attentions=True)`).\n",
            "WARNING:tensorflow:The parameter `return_dict` cannot be set in graph mode and will always be set to `True`.\n"
          ],
          "name": "stdout"
        }
      ]
    },
    {
      "cell_type": "code",
      "metadata": {
        "colab": {
          "base_uri": "https://localhost:8080/"
        },
        "id": "jgx1vmVgpdNH",
        "outputId": "cd7c90ae-7cdb-4c78-e3bf-73b925f6aeca"
      },
      "source": [
        "predictions.value_counts()"
      ],
      "execution_count": null,
      "outputs": [
        {
          "output_type": "execute_result",
          "data": {
            "text/plain": [
              "1.0    1656\n",
              "0.0    1515\n",
              "dtype: int64"
            ]
          },
          "metadata": {
            "tags": []
          },
          "execution_count": 56
        }
      ]
    },
    {
      "cell_type": "markdown",
      "metadata": {
        "id": "S9J9SfMac6zp"
      },
      "source": [
        "Saving the test label as a csv file"
      ]
    },
    {
      "cell_type": "code",
      "metadata": {
        "id": "mnthKMOimbAV"
      },
      "source": [
        "test_df['label']=predictions\r\n",
        "\r\n",
        "test_df.to_csv('/content/drive/MyDrive/Stumble Upon/submit.csv',columns=['urlid','label'],index=False)"
      ],
      "execution_count": null,
      "outputs": []
    },
    {
      "cell_type": "markdown",
      "metadata": {
        "id": "IZ8cvrubdEBX"
      },
      "source": [
        "Saving the model for future use"
      ]
    },
    {
      "cell_type": "code",
      "metadata": {
        "colab": {
          "base_uri": "https://localhost:8080/"
        },
        "id": "P2g18UJWIPzv",
        "outputId": "7c27237a-e7b8-462a-f526-f06dad9b7c02"
      },
      "source": [
        "from tensorflow import keras\r\n",
        "\r\n",
        "model.save(\"/content/drive/MyDrive/Stumble Upon/Stumble_upon_classification_model\")"
      ],
      "execution_count": null,
      "outputs": [
        {
          "output_type": "stream",
          "text": [
            "WARNING:tensorflow:The parameters `output_attentions`, `output_hidden_states` and `use_cache` cannot be updated when calling a model.They have to be set to True/False in the config object (i.e.: `config=XConfig.from_pretrained('name', output_attentions=True)`).\n",
            "WARNING:tensorflow:The parameter `return_dict` cannot be set in graph mode and will always be set to `True`.\n",
            "WARNING:tensorflow:The parameters `output_attentions`, `output_hidden_states` and `use_cache` cannot be updated when calling a model.They have to be set to True/False in the config object (i.e.: `config=XConfig.from_pretrained('name', output_attentions=True)`).\n",
            "WARNING:tensorflow:The parameter `return_dict` cannot be set in graph mode and will always be set to `True`.\n",
            "WARNING:tensorflow:The parameters `output_attentions`, `output_hidden_states` and `use_cache` cannot be updated when calling a model.They have to be set to True/False in the config object (i.e.: `config=XConfig.from_pretrained('name', output_attentions=True)`).\n",
            "WARNING:tensorflow:The parameter `return_dict` cannot be set in graph mode and will always be set to `True`.\n",
            "WARNING:tensorflow:The parameters `output_attentions`, `output_hidden_states` and `use_cache` cannot be updated when calling a model.They have to be set to True/False in the config object (i.e.: `config=XConfig.from_pretrained('name', output_attentions=True)`).\n",
            "WARNING:tensorflow:The parameter `return_dict` cannot be set in graph mode and will always be set to `True`.\n",
            "WARNING:tensorflow:The parameters `output_attentions`, `output_hidden_states` and `use_cache` cannot be updated when calling a model.They have to be set to True/False in the config object (i.e.: `config=XConfig.from_pretrained('name', output_attentions=True)`).\n",
            "WARNING:tensorflow:The parameter `return_dict` cannot be set in graph mode and will always be set to `True`.\n",
            "WARNING:tensorflow:The parameters `output_attentions`, `output_hidden_states` and `use_cache` cannot be updated when calling a model.They have to be set to True/False in the config object (i.e.: `config=XConfig.from_pretrained('name', output_attentions=True)`).\n",
            "WARNING:tensorflow:The parameter `return_dict` cannot be set in graph mode and will always be set to `True`.\n",
            "WARNING:tensorflow:The parameters `output_attentions`, `output_hidden_states` and `use_cache` cannot be updated when calling a model.They have to be set to True/False in the config object (i.e.: `config=XConfig.from_pretrained('name', output_attentions=True)`).\n",
            "WARNING:tensorflow:The parameter `return_dict` cannot be set in graph mode and will always be set to `True`.\n",
            "WARNING:tensorflow:The parameters `output_attentions`, `output_hidden_states` and `use_cache` cannot be updated when calling a model.They have to be set to True/False in the config object (i.e.: `config=XConfig.from_pretrained('name', output_attentions=True)`).\n",
            "WARNING:tensorflow:The parameter `return_dict` cannot be set in graph mode and will always be set to `True`.\n",
            "WARNING:tensorflow:The parameters `output_attentions`, `output_hidden_states` and `use_cache` cannot be updated when calling a model.They have to be set to True/False in the config object (i.e.: `config=XConfig.from_pretrained('name', output_attentions=True)`).\n",
            "WARNING:tensorflow:The parameter `return_dict` cannot be set in graph mode and will always be set to `True`.\n",
            "WARNING:tensorflow:The parameters `output_attentions`, `output_hidden_states` and `use_cache` cannot be updated when calling a model.They have to be set to True/False in the config object (i.e.: `config=XConfig.from_pretrained('name', output_attentions=True)`).\n",
            "WARNING:tensorflow:The parameter `return_dict` cannot be set in graph mode and will always be set to `True`.\n",
            "WARNING:tensorflow:The parameters `output_attentions`, `output_hidden_states` and `use_cache` cannot be updated when calling a model.They have to be set to True/False in the config object (i.e.: `config=XConfig.from_pretrained('name', output_attentions=True)`).\n",
            "WARNING:tensorflow:The parameter `return_dict` cannot be set in graph mode and will always be set to `True`.\n",
            "WARNING:tensorflow:The parameters `output_attentions`, `output_hidden_states` and `use_cache` cannot be updated when calling a model.They have to be set to True/False in the config object (i.e.: `config=XConfig.from_pretrained('name', output_attentions=True)`).\n",
            "WARNING:tensorflow:The parameter `return_dict` cannot be set in graph mode and will always be set to `True`.\n",
            "WARNING:tensorflow:The parameters `output_attentions`, `output_hidden_states` and `use_cache` cannot be updated when calling a model.They have to be set to True/False in the config object (i.e.: `config=XConfig.from_pretrained('name', output_attentions=True)`).\n",
            "WARNING:tensorflow:The parameter `return_dict` cannot be set in graph mode and will always be set to `True`.\n",
            "WARNING:tensorflow:The parameters `output_attentions`, `output_hidden_states` and `use_cache` cannot be updated when calling a model.They have to be set to True/False in the config object (i.e.: `config=XConfig.from_pretrained('name', output_attentions=True)`).\n",
            "WARNING:tensorflow:The parameter `return_dict` cannot be set in graph mode and will always be set to `True`.\n"
          ],
          "name": "stdout"
        },
        {
          "output_type": "stream",
          "text": [
            "WARNING:absl:Found untraced functions such as embeddings_layer_call_fn, embeddings_layer_call_and_return_conditional_losses, encoder_layer_call_fn, encoder_layer_call_and_return_conditional_losses, pooler_layer_call_fn while saving (showing 5 of 1070). These functions will not be directly callable after loading.\n",
            "WARNING:absl:Found untraced functions such as embeddings_layer_call_fn, embeddings_layer_call_and_return_conditional_losses, encoder_layer_call_fn, encoder_layer_call_and_return_conditional_losses, pooler_layer_call_fn while saving (showing 5 of 1070). These functions will not be directly callable after loading.\n"
          ],
          "name": "stderr"
        },
        {
          "output_type": "stream",
          "text": [
            "INFO:tensorflow:Assets written to: /content/drive/MyDrive/Stumble Upon/Stumble_upon_classification_model/assets\n"
          ],
          "name": "stdout"
        },
        {
          "output_type": "stream",
          "text": [
            "INFO:tensorflow:Assets written to: /content/drive/MyDrive/Stumble Upon/Stumble_upon_classification_model/assets\n"
          ],
          "name": "stderr"
        }
      ]
    },
    {
      "cell_type": "markdown",
      "metadata": {
        "id": "QLeUCHZsdipS"
      },
      "source": [
        "**References**\r\n",
        "  \r\n",
        "  https://www.kaggle.com/sumeetsawant/stumble-upon-challenge-auc-private-lb-0-85\r\n",
        "\r\n",
        "  http://cs229.stanford.edu/proj2013/RoySaraiya_StumbleUponClassification.pdf\r\n",
        "\r\n",
        "  https://github.com/huggingface/transformers\r\n",
        "  \r\n",
        "  https://medium.com/@aniruddha.choudhury94/part-2-bert-fine-tuning-tutorial-with-pytorch-for-text-classification-on-the-corpus-of-linguistic-18057ce330e1\r\n",
        "\r\n",
        "  http://digital-thinking.de/deep-learning-combining-numerical-and-text-features-in-deep-neural-networks/\r\n",
        "\r\n",
        "  https://github.com/prateekjoshi565/Fine-Tuning-BERT/blob/master/Fine_Tuning_BERT_for_Spam_Classification.ipynb"
      ]
    }
  ]
}